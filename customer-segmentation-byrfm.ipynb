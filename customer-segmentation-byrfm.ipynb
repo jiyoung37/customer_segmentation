{
 "cells": [
  {
   "cell_type": "markdown",
   "metadata": {},
   "source": [
    "<a href=\"https://www.kaggle.com/code/jiyoung37/customer-segmentation-byrfm?scriptVersionId=232408856\" target=\"_blank\"><img align=\"left\" alt=\"Kaggle\" title=\"Open in Kaggle\" src=\"https://kaggle.com/static/images/open-in-kaggle.svg\"></a>"
   ]
  },
  {
   "cell_type": "markdown",
   "id": "6b272d4e",
   "metadata": {
    "papermill": {
     "duration": 0.008922,
     "end_time": "2025-04-07T10:15:45.51235",
     "exception": false,
     "start_time": "2025-04-07T10:15:45.503428",
     "status": "completed"
    },
    "tags": []
   },
   "source": [
    "# Importing necessary libraries"
   ]
  },
  {
   "cell_type": "code",
   "execution_count": 1,
   "id": "0798b053",
   "metadata": {
    "_cell_guid": "b1076dfc-b9ad-4769-8c92-a6c4dae69d19",
    "_uuid": "8f2839f25d086af736a60e9eeb907d3b93b6e0e5",
    "execution": {
     "iopub.execute_input": "2025-04-07T10:15:45.530596Z",
     "iopub.status.busy": "2025-04-07T10:15:45.530286Z",
     "iopub.status.idle": "2025-04-07T10:15:48.005091Z",
     "shell.execute_reply": "2025-04-07T10:15:48.004405Z"
    },
    "papermill": {
     "duration": 2.486282,
     "end_time": "2025-04-07T10:15:48.006704",
     "exception": false,
     "start_time": "2025-04-07T10:15:45.520422",
     "status": "completed"
    },
    "tags": []
   },
   "outputs": [],
   "source": [
    "import numpy as np                                # For numerical operations and handling arrays\n",
    "import pandas as pd                               # For data manipulation and analysis\n",
    "import seaborn as sns                             # For statistical data visualization (e.g., heatmaps)\n",
    "import matplotlib.pyplot as plt                   # For visualizing data\n",
    "from sklearn.preprocessing import MinMaxScaler    # For scaling the data (Min-Max)\n",
    "from sklearn.preprocessing import StandardScaler  # For scaling the data (Standardization)\n",
    "from sklearn.cluster import KMeans                # For K-Means clustering\n",
    "from sklearn.cluster import DBSCAN                # For DBSCAN clustering\n",
    "from sklearn.metrics import silhouette_score      # For evaluating clustering performance\n",
    "from sklearn.manifold import TSNE                 # For dimensionality reduction (t-SNE)\n",
    "from sklearn.decomposition import PCA\n",
    "import os   "
   ]
  },
  {
   "cell_type": "markdown",
   "id": "26563fe7",
   "metadata": {
    "papermill": {
     "duration": 0.007851,
     "end_time": "2025-04-07T10:15:48.022911",
     "exception": false,
     "start_time": "2025-04-07T10:15:48.01506",
     "status": "completed"
    },
    "tags": []
   },
   "source": [
    "# Data preparation"
   ]
  },
  {
   "cell_type": "code",
   "execution_count": 2,
   "id": "85bb3458",
   "metadata": {
    "execution": {
     "iopub.execute_input": "2025-04-07T10:15:48.040244Z",
     "iopub.status.busy": "2025-04-07T10:15:48.039857Z",
     "iopub.status.idle": "2025-04-07T10:15:48.049044Z",
     "shell.execute_reply": "2025-04-07T10:15:48.048206Z"
    },
    "papermill": {
     "duration": 0.018966,
     "end_time": "2025-04-07T10:15:48.050316",
     "exception": false,
     "start_time": "2025-04-07T10:15:48.03135",
     "status": "completed"
    },
    "tags": []
   },
   "outputs": [],
   "source": [
    "# Loop through all files in the input directory and get their paths\n",
    "for dirname, _, filenames in os.walk('/kaggle/input'):\n",
    "    for filename in filenames:\n",
    "        file_Path = os.path.join(dirname, filename)  # Construct and Storing full path of the Excel file"
   ]
  },
  {
   "cell_type": "code",
   "execution_count": 3,
   "id": "53191659",
   "metadata": {
    "execution": {
     "iopub.execute_input": "2025-04-07T10:15:48.067812Z",
     "iopub.status.busy": "2025-04-07T10:15:48.067561Z",
     "iopub.status.idle": "2025-04-07T10:16:39.531766Z",
     "shell.execute_reply": "2025-04-07T10:16:39.530826Z"
    },
    "papermill": {
     "duration": 51.482731,
     "end_time": "2025-04-07T10:16:39.541122",
     "exception": false,
     "start_time": "2025-04-07T10:15:48.058391",
     "status": "completed"
    },
    "tags": []
   },
   "outputs": [
    {
     "data": {
      "text/html": [
       "<div>\n",
       "<style scoped>\n",
       "    .dataframe tbody tr th:only-of-type {\n",
       "        vertical-align: middle;\n",
       "    }\n",
       "\n",
       "    .dataframe tbody tr th {\n",
       "        vertical-align: top;\n",
       "    }\n",
       "\n",
       "    .dataframe thead th {\n",
       "        text-align: right;\n",
       "    }\n",
       "</style>\n",
       "<table border=\"1\" class=\"dataframe\">\n",
       "  <thead>\n",
       "    <tr style=\"text-align: right;\">\n",
       "      <th></th>\n",
       "      <th>InvoiceNo</th>\n",
       "      <th>StockCode</th>\n",
       "      <th>Description</th>\n",
       "      <th>Quantity</th>\n",
       "      <th>InvoiceDate</th>\n",
       "      <th>UnitPrice</th>\n",
       "      <th>CustomerID</th>\n",
       "      <th>Country</th>\n",
       "    </tr>\n",
       "  </thead>\n",
       "  <tbody>\n",
       "    <tr>\n",
       "      <th>0</th>\n",
       "      <td>536365</td>\n",
       "      <td>85123A</td>\n",
       "      <td>WHITE HANGING HEART T-LIGHT HOLDER</td>\n",
       "      <td>6</td>\n",
       "      <td>2010-12-01 08:26:00</td>\n",
       "      <td>2.55</td>\n",
       "      <td>17850.0</td>\n",
       "      <td>United Kingdom</td>\n",
       "    </tr>\n",
       "    <tr>\n",
       "      <th>1</th>\n",
       "      <td>536365</td>\n",
       "      <td>71053</td>\n",
       "      <td>WHITE METAL LANTERN</td>\n",
       "      <td>6</td>\n",
       "      <td>2010-12-01 08:26:00</td>\n",
       "      <td>3.39</td>\n",
       "      <td>17850.0</td>\n",
       "      <td>United Kingdom</td>\n",
       "    </tr>\n",
       "    <tr>\n",
       "      <th>2</th>\n",
       "      <td>536365</td>\n",
       "      <td>84406B</td>\n",
       "      <td>CREAM CUPID HEARTS COAT HANGER</td>\n",
       "      <td>8</td>\n",
       "      <td>2010-12-01 08:26:00</td>\n",
       "      <td>2.75</td>\n",
       "      <td>17850.0</td>\n",
       "      <td>United Kingdom</td>\n",
       "    </tr>\n",
       "    <tr>\n",
       "      <th>3</th>\n",
       "      <td>536365</td>\n",
       "      <td>84029G</td>\n",
       "      <td>KNITTED UNION FLAG HOT WATER BOTTLE</td>\n",
       "      <td>6</td>\n",
       "      <td>2010-12-01 08:26:00</td>\n",
       "      <td>3.39</td>\n",
       "      <td>17850.0</td>\n",
       "      <td>United Kingdom</td>\n",
       "    </tr>\n",
       "    <tr>\n",
       "      <th>4</th>\n",
       "      <td>536365</td>\n",
       "      <td>84029E</td>\n",
       "      <td>RED WOOLLY HOTTIE WHITE HEART.</td>\n",
       "      <td>6</td>\n",
       "      <td>2010-12-01 08:26:00</td>\n",
       "      <td>3.39</td>\n",
       "      <td>17850.0</td>\n",
       "      <td>United Kingdom</td>\n",
       "    </tr>\n",
       "  </tbody>\n",
       "</table>\n",
       "</div>"
      ],
      "text/plain": [
       "  InvoiceNo StockCode                          Description  Quantity  \\\n",
       "0    536365    85123A   WHITE HANGING HEART T-LIGHT HOLDER         6   \n",
       "1    536365     71053                  WHITE METAL LANTERN         6   \n",
       "2    536365    84406B       CREAM CUPID HEARTS COAT HANGER         8   \n",
       "3    536365    84029G  KNITTED UNION FLAG HOT WATER BOTTLE         6   \n",
       "4    536365    84029E       RED WOOLLY HOTTIE WHITE HEART.         6   \n",
       "\n",
       "          InvoiceDate  UnitPrice  CustomerID         Country  \n",
       "0 2010-12-01 08:26:00       2.55     17850.0  United Kingdom  \n",
       "1 2010-12-01 08:26:00       3.39     17850.0  United Kingdom  \n",
       "2 2010-12-01 08:26:00       2.75     17850.0  United Kingdom  \n",
       "3 2010-12-01 08:26:00       3.39     17850.0  United Kingdom  \n",
       "4 2010-12-01 08:26:00       3.39     17850.0  United Kingdom  "
      ]
     },
     "execution_count": 3,
     "metadata": {},
     "output_type": "execute_result"
    }
   ],
   "source": [
    "# Reading the Excel file\n",
    "df = pd.read_excel(file_Path)              \n",
    "# Displaying the data\n",
    "df.head()"
   ]
  },
  {
   "cell_type": "markdown",
   "id": "9aea72fc",
   "metadata": {
    "papermill": {
     "duration": 0.007741,
     "end_time": "2025-04-07T10:16:39.556906",
     "exception": false,
     "start_time": "2025-04-07T10:16:39.549165",
     "status": "completed"
    },
    "tags": []
   },
   "source": [
    "# Data Overview"
   ]
  },
  {
   "cell_type": "code",
   "execution_count": 4,
   "id": "61f418ab",
   "metadata": {
    "execution": {
     "iopub.execute_input": "2025-04-07T10:16:39.573479Z",
     "iopub.status.busy": "2025-04-07T10:16:39.573113Z",
     "iopub.status.idle": "2025-04-07T10:16:39.577406Z",
     "shell.execute_reply": "2025-04-07T10:16:39.576734Z"
    },
    "papermill": {
     "duration": 0.013953,
     "end_time": "2025-04-07T10:16:39.57867",
     "exception": false,
     "start_time": "2025-04-07T10:16:39.564717",
     "status": "completed"
    },
    "tags": []
   },
   "outputs": [
    {
     "name": "stdout",
     "output_type": "stream",
     "text": [
      "data shape: (541909, 8)\n"
     ]
    }
   ],
   "source": [
    "# data shape\n",
    "print(\"data shape:\",df.shape)"
   ]
  },
  {
   "cell_type": "code",
   "execution_count": 5,
   "id": "01e44491",
   "metadata": {
    "execution": {
     "iopub.execute_input": "2025-04-07T10:16:39.595499Z",
     "iopub.status.busy": "2025-04-07T10:16:39.595259Z",
     "iopub.status.idle": "2025-04-07T10:16:39.694225Z",
     "shell.execute_reply": "2025-04-07T10:16:39.693578Z"
    },
    "papermill": {
     "duration": 0.10862,
     "end_time": "2025-04-07T10:16:39.69542",
     "exception": false,
     "start_time": "2025-04-07T10:16:39.5868",
     "status": "completed"
    },
    "tags": []
   },
   "outputs": [
    {
     "data": {
      "text/plain": [
       "InvoiceNo           0\n",
       "StockCode           0\n",
       "Description      1454\n",
       "Quantity            0\n",
       "InvoiceDate         0\n",
       "UnitPrice           0\n",
       "CustomerID     135080\n",
       "Country             0\n",
       "dtype: int64"
      ]
     },
     "execution_count": 5,
     "metadata": {},
     "output_type": "execute_result"
    }
   ],
   "source": [
    "# missing data\n",
    "df.isna().sum()"
   ]
  },
  {
   "cell_type": "code",
   "execution_count": 6,
   "id": "7610da15",
   "metadata": {
    "execution": {
     "iopub.execute_input": "2025-04-07T10:16:39.712163Z",
     "iopub.status.busy": "2025-04-07T10:16:39.711955Z",
     "iopub.status.idle": "2025-04-07T10:16:39.824315Z",
     "shell.execute_reply": "2025-04-07T10:16:39.823226Z"
    },
    "papermill": {
     "duration": 0.12231,
     "end_time": "2025-04-07T10:16:39.825828",
     "exception": false,
     "start_time": "2025-04-07T10:16:39.703518",
     "status": "completed"
    },
    "tags": []
   },
   "outputs": [
    {
     "name": "stdout",
     "output_type": "stream",
     "text": [
      "<class 'pandas.core.frame.DataFrame'>\n",
      "RangeIndex: 541909 entries, 0 to 541908\n",
      "Data columns (total 8 columns):\n",
      " #   Column       Non-Null Count   Dtype         \n",
      "---  ------       --------------   -----         \n",
      " 0   InvoiceNo    541909 non-null  object        \n",
      " 1   StockCode    541909 non-null  object        \n",
      " 2   Description  540455 non-null  object        \n",
      " 3   Quantity     541909 non-null  int64         \n",
      " 4   InvoiceDate  541909 non-null  datetime64[ns]\n",
      " 5   UnitPrice    541909 non-null  float64       \n",
      " 6   CustomerID   406829 non-null  float64       \n",
      " 7   Country      541909 non-null  object        \n",
      "dtypes: datetime64[ns](1), float64(2), int64(1), object(4)\n",
      "memory usage: 33.1+ MB\n"
     ]
    }
   ],
   "source": [
    "df.info()"
   ]
  },
  {
   "cell_type": "code",
   "execution_count": 7,
   "id": "9e3fb774",
   "metadata": {
    "execution": {
     "iopub.execute_input": "2025-04-07T10:16:39.84324Z",
     "iopub.status.busy": "2025-04-07T10:16:39.84301Z",
     "iopub.status.idle": "2025-04-07T10:16:39.916644Z",
     "shell.execute_reply": "2025-04-07T10:16:39.915746Z"
    },
    "papermill": {
     "duration": 0.083682,
     "end_time": "2025-04-07T10:16:39.917939",
     "exception": false,
     "start_time": "2025-04-07T10:16:39.834257",
     "status": "completed"
    },
    "tags": []
   },
   "outputs": [
    {
     "data": {
      "text/html": [
       "<div>\n",
       "<style scoped>\n",
       "    .dataframe tbody tr th:only-of-type {\n",
       "        vertical-align: middle;\n",
       "    }\n",
       "\n",
       "    .dataframe tbody tr th {\n",
       "        vertical-align: top;\n",
       "    }\n",
       "\n",
       "    .dataframe thead th {\n",
       "        text-align: right;\n",
       "    }\n",
       "</style>\n",
       "<table border=\"1\" class=\"dataframe\">\n",
       "  <thead>\n",
       "    <tr style=\"text-align: right;\">\n",
       "      <th></th>\n",
       "      <th>Quantity</th>\n",
       "      <th>InvoiceDate</th>\n",
       "      <th>UnitPrice</th>\n",
       "      <th>CustomerID</th>\n",
       "    </tr>\n",
       "  </thead>\n",
       "  <tbody>\n",
       "    <tr>\n",
       "      <th>count</th>\n",
       "      <td>541909.000000</td>\n",
       "      <td>541909</td>\n",
       "      <td>541909.000000</td>\n",
       "      <td>406829.000000</td>\n",
       "    </tr>\n",
       "    <tr>\n",
       "      <th>mean</th>\n",
       "      <td>9.552250</td>\n",
       "      <td>2011-07-04 13:34:57.156386048</td>\n",
       "      <td>4.611114</td>\n",
       "      <td>15287.690570</td>\n",
       "    </tr>\n",
       "    <tr>\n",
       "      <th>min</th>\n",
       "      <td>-80995.000000</td>\n",
       "      <td>2010-12-01 08:26:00</td>\n",
       "      <td>-11062.060000</td>\n",
       "      <td>12346.000000</td>\n",
       "    </tr>\n",
       "    <tr>\n",
       "      <th>25%</th>\n",
       "      <td>1.000000</td>\n",
       "      <td>2011-03-28 11:34:00</td>\n",
       "      <td>1.250000</td>\n",
       "      <td>13953.000000</td>\n",
       "    </tr>\n",
       "    <tr>\n",
       "      <th>50%</th>\n",
       "      <td>3.000000</td>\n",
       "      <td>2011-07-19 17:17:00</td>\n",
       "      <td>2.080000</td>\n",
       "      <td>15152.000000</td>\n",
       "    </tr>\n",
       "    <tr>\n",
       "      <th>75%</th>\n",
       "      <td>10.000000</td>\n",
       "      <td>2011-10-19 11:27:00</td>\n",
       "      <td>4.130000</td>\n",
       "      <td>16791.000000</td>\n",
       "    </tr>\n",
       "    <tr>\n",
       "      <th>max</th>\n",
       "      <td>80995.000000</td>\n",
       "      <td>2011-12-09 12:50:00</td>\n",
       "      <td>38970.000000</td>\n",
       "      <td>18287.000000</td>\n",
       "    </tr>\n",
       "    <tr>\n",
       "      <th>std</th>\n",
       "      <td>218.081158</td>\n",
       "      <td>NaN</td>\n",
       "      <td>96.759853</td>\n",
       "      <td>1713.600303</td>\n",
       "    </tr>\n",
       "  </tbody>\n",
       "</table>\n",
       "</div>"
      ],
      "text/plain": [
       "            Quantity                    InvoiceDate      UnitPrice  \\\n",
       "count  541909.000000                         541909  541909.000000   \n",
       "mean        9.552250  2011-07-04 13:34:57.156386048       4.611114   \n",
       "min    -80995.000000            2010-12-01 08:26:00  -11062.060000   \n",
       "25%         1.000000            2011-03-28 11:34:00       1.250000   \n",
       "50%         3.000000            2011-07-19 17:17:00       2.080000   \n",
       "75%        10.000000            2011-10-19 11:27:00       4.130000   \n",
       "max     80995.000000            2011-12-09 12:50:00   38970.000000   \n",
       "std       218.081158                            NaN      96.759853   \n",
       "\n",
       "          CustomerID  \n",
       "count  406829.000000  \n",
       "mean    15287.690570  \n",
       "min     12346.000000  \n",
       "25%     13953.000000  \n",
       "50%     15152.000000  \n",
       "75%     16791.000000  \n",
       "max     18287.000000  \n",
       "std      1713.600303  "
      ]
     },
     "execution_count": 7,
     "metadata": {},
     "output_type": "execute_result"
    }
   ],
   "source": [
    "df.describe()"
   ]
  },
  {
   "cell_type": "markdown",
   "id": "93bcfd30",
   "metadata": {
    "papermill": {
     "duration": 0.008048,
     "end_time": "2025-04-07T10:16:39.934628",
     "exception": false,
     "start_time": "2025-04-07T10:16:39.92658",
     "status": "completed"
    },
    "tags": []
   },
   "source": [
    "# Data cleaning"
   ]
  },
  {
   "cell_type": "markdown",
   "id": "47b69816",
   "metadata": {
    "papermill": {
     "duration": 0.008085,
     "end_time": "2025-04-07T10:16:39.9508",
     "exception": false,
     "start_time": "2025-04-07T10:16:39.942715",
     "status": "completed"
    },
    "tags": []
   },
   "source": [
    "From database summary, it was observed:\n",
    "\n",
    "a. The minimum values should not be negative.\n",
    "\n",
    "b. The maximum values are far higher than median.\n",
    "\n",
    "This indicates the presence of extreme outliers that require correction."
   ]
  },
  {
   "cell_type": "code",
   "execution_count": 8,
   "id": "c5979b5a",
   "metadata": {
    "execution": {
     "iopub.execute_input": "2025-04-07T10:16:39.968155Z",
     "iopub.status.busy": "2025-04-07T10:16:39.967911Z",
     "iopub.status.idle": "2025-04-07T10:16:41.161892Z",
     "shell.execute_reply": "2025-04-07T10:16:41.161031Z"
    },
    "papermill": {
     "duration": 1.203975,
     "end_time": "2025-04-07T10:16:41.163098",
     "exception": false,
     "start_time": "2025-04-07T10:16:39.959123",
     "status": "completed"
    },
    "tags": []
   },
   "outputs": [
    {
     "data": {
      "image/png": "[encoded data removed]",
      "text/plain": [
       "<Figure size 1200x500 with 2 Axes>"
      ]
     },
     "metadata": {},
     "output_type": "display_data"
    }
   ],
   "source": [
    "df[['Quantity', 'UnitPrice']].hist(bins=50, figsize=(12, 5), layout=(1, 2), log=True)\n",
    "plt.show()"
   ]
  },
  {
   "cell_type": "markdown",
   "id": "4f0419d6",
   "metadata": {
    "papermill": {
     "duration": 0.008559,
     "end_time": "2025-04-07T10:16:41.180602",
     "exception": false,
     "start_time": "2025-04-07T10:16:41.172043",
     "status": "completed"
    },
    "tags": []
   },
   "source": [
    "## Option 1_Qauantity, UnitPrice: value range cleaning"
   ]
  },
  {
   "cell_type": "markdown",
   "id": "cf0d652e",
   "metadata": {
    "papermill": {
     "duration": 0.008535,
     "end_time": "2025-04-07T10:16:41.197817",
     "exception": false,
     "start_time": "2025-04-07T10:16:41.189282",
     "status": "completed"
    },
    "tags": []
   },
   "source": [
    "Remove all negatie values"
   ]
  },
  {
   "cell_type": "code",
   "execution_count": 9,
   "id": "0ab34cfe",
   "metadata": {
    "execution": {
     "iopub.execute_input": "2025-04-07T10:16:41.21619Z",
     "iopub.status.busy": "2025-04-07T10:16:41.215925Z",
     "iopub.status.idle": "2025-04-07T10:16:41.229742Z",
     "shell.execute_reply": "2025-04-07T10:16:41.228942Z"
    },
    "papermill": {
     "duration": 0.024517,
     "end_time": "2025-04-07T10:16:41.230923",
     "exception": false,
     "start_time": "2025-04-07T10:16:41.206406",
     "status": "completed"
    },
    "tags": []
   },
   "outputs": [
    {
     "name": "stdout",
     "output_type": "stream",
     "text": [
      "Quantity-number of negative rows: 10624\n",
      "UnitPrice--number of negative rows: 2\n"
     ]
    }
   ],
   "source": [
    "# Identify rows with negative values\n",
    "negative_values = df[(df['Quantity'] < 0) | (df['UnitPrice'] < 0)]\n",
    "\n",
    "print(f\"Quantity-number of negative rows: {df[df['Quantity']<0].shape[0]}\")\n",
    "print(f\"UnitPrice--number of negative rows: {df[df['UnitPrice']<0].shape[0]}\")"
   ]
  },
  {
   "cell_type": "code",
   "execution_count": 10,
   "id": "0ac3ef91",
   "metadata": {
    "execution": {
     "iopub.execute_input": "2025-04-07T10:16:41.249436Z",
     "iopub.status.busy": "2025-04-07T10:16:41.249164Z",
     "iopub.status.idle": "2025-04-07T10:16:41.396209Z",
     "shell.execute_reply": "2025-04-07T10:16:41.395259Z"
    },
    "papermill": {
     "duration": 0.158184,
     "end_time": "2025-04-07T10:16:41.39788",
     "exception": false,
     "start_time": "2025-04-07T10:16:41.239696",
     "status": "completed"
    },
    "tags": []
   },
   "outputs": [
    {
     "data": {
      "text/html": [
       "<div>\n",
       "<style scoped>\n",
       "    .dataframe tbody tr th:only-of-type {\n",
       "        vertical-align: middle;\n",
       "    }\n",
       "\n",
       "    .dataframe tbody tr th {\n",
       "        vertical-align: top;\n",
       "    }\n",
       "\n",
       "    .dataframe thead th {\n",
       "        text-align: right;\n",
       "    }\n",
       "</style>\n",
       "<table border=\"1\" class=\"dataframe\">\n",
       "  <thead>\n",
       "    <tr style=\"text-align: right;\">\n",
       "      <th></th>\n",
       "      <th>Quantity</th>\n",
       "      <th>InvoiceDate</th>\n",
       "      <th>UnitPrice</th>\n",
       "      <th>CustomerID</th>\n",
       "    </tr>\n",
       "  </thead>\n",
       "  <tbody>\n",
       "    <tr>\n",
       "      <th>count</th>\n",
       "      <td>530104.000000</td>\n",
       "      <td>530104</td>\n",
       "      <td>530104.000000</td>\n",
       "      <td>397884.000000</td>\n",
       "    </tr>\n",
       "    <tr>\n",
       "      <th>mean</th>\n",
       "      <td>10.542037</td>\n",
       "      <td>2011-07-04 20:16:05.225088</td>\n",
       "      <td>3.907625</td>\n",
       "      <td>15294.423453</td>\n",
       "    </tr>\n",
       "    <tr>\n",
       "      <th>min</th>\n",
       "      <td>1.000000</td>\n",
       "      <td>2010-12-01 08:26:00</td>\n",
       "      <td>0.001000</td>\n",
       "      <td>12346.000000</td>\n",
       "    </tr>\n",
       "    <tr>\n",
       "      <th>25%</th>\n",
       "      <td>1.000000</td>\n",
       "      <td>2011-03-28 12:22:00</td>\n",
       "      <td>1.250000</td>\n",
       "      <td>13969.000000</td>\n",
       "    </tr>\n",
       "    <tr>\n",
       "      <th>50%</th>\n",
       "      <td>3.000000</td>\n",
       "      <td>2011-07-20 12:58:00</td>\n",
       "      <td>2.080000</td>\n",
       "      <td>15159.000000</td>\n",
       "    </tr>\n",
       "    <tr>\n",
       "      <th>75%</th>\n",
       "      <td>10.000000</td>\n",
       "      <td>2011-10-19 12:39:00</td>\n",
       "      <td>4.130000</td>\n",
       "      <td>16795.000000</td>\n",
       "    </tr>\n",
       "    <tr>\n",
       "      <th>max</th>\n",
       "      <td>80995.000000</td>\n",
       "      <td>2011-12-09 12:50:00</td>\n",
       "      <td>13541.330000</td>\n",
       "      <td>18287.000000</td>\n",
       "    </tr>\n",
       "    <tr>\n",
       "      <th>std</th>\n",
       "      <td>155.524124</td>\n",
       "      <td>NaN</td>\n",
       "      <td>35.915681</td>\n",
       "      <td>1713.141560</td>\n",
       "    </tr>\n",
       "  </tbody>\n",
       "</table>\n",
       "</div>"
      ],
      "text/plain": [
       "            Quantity                 InvoiceDate      UnitPrice     CustomerID\n",
       "count  530104.000000                      530104  530104.000000  397884.000000\n",
       "mean       10.542037  2011-07-04 20:16:05.225088       3.907625   15294.423453\n",
       "min         1.000000         2010-12-01 08:26:00       0.001000   12346.000000\n",
       "25%         1.000000         2011-03-28 12:22:00       1.250000   13969.000000\n",
       "50%         3.000000         2011-07-20 12:58:00       2.080000   15159.000000\n",
       "75%        10.000000         2011-10-19 12:39:00       4.130000   16795.000000\n",
       "max     80995.000000         2011-12-09 12:50:00   13541.330000   18287.000000\n",
       "std       155.524124                         NaN      35.915681    1713.141560"
      ]
     },
     "execution_count": 10,
     "metadata": {},
     "output_type": "execute_result"
    }
   ],
   "source": [
    "# Drop rows with negative values\n",
    "df = df[df['Quantity'] > 0]\n",
    "df = df[df['UnitPrice'] > 0]\n",
    "\n",
    "df.describe()"
   ]
  },
  {
   "cell_type": "code",
   "execution_count": 11,
   "id": "1d69dbef",
   "metadata": {
    "execution": {
     "iopub.execute_input": "2025-04-07T10:16:41.417591Z",
     "iopub.status.busy": "2025-04-07T10:16:41.417285Z",
     "iopub.status.idle": "2025-04-07T10:16:41.516367Z",
     "shell.execute_reply": "2025-04-07T10:16:41.5153Z"
    },
    "papermill": {
     "duration": 0.110011,
     "end_time": "2025-04-07T10:16:41.51776",
     "exception": false,
     "start_time": "2025-04-07T10:16:41.407749",
     "status": "completed"
    },
    "tags": []
   },
   "outputs": [
    {
     "name": "stdout",
     "output_type": "stream",
     "text": [
      "<class 'pandas.core.frame.DataFrame'>\n",
      "Index: 530104 entries, 0 to 541908\n",
      "Data columns (total 8 columns):\n",
      " #   Column       Non-Null Count   Dtype         \n",
      "---  ------       --------------   -----         \n",
      " 0   InvoiceNo    530104 non-null  object        \n",
      " 1   StockCode    530104 non-null  object        \n",
      " 2   Description  530104 non-null  object        \n",
      " 3   Quantity     530104 non-null  int64         \n",
      " 4   InvoiceDate  530104 non-null  datetime64[ns]\n",
      " 5   UnitPrice    530104 non-null  float64       \n",
      " 6   CustomerID   397884 non-null  float64       \n",
      " 7   Country      530104 non-null  object        \n",
      "dtypes: datetime64[ns](1), float64(2), int64(1), object(4)\n",
      "memory usage: 36.4+ MB\n"
     ]
    }
   ],
   "source": [
    "df.info()"
   ]
  },
  {
   "cell_type": "code",
   "execution_count": 12,
   "id": "c3e79920",
   "metadata": {
    "execution": {
     "iopub.execute_input": "2025-04-07T10:16:41.536862Z",
     "iopub.status.busy": "2025-04-07T10:16:41.536614Z",
     "iopub.status.idle": "2025-04-07T10:16:42.518911Z",
     "shell.execute_reply": "2025-04-07T10:16:42.51805Z"
    },
    "papermill": {
     "duration": 0.993055,
     "end_time": "2025-04-07T10:16:42.520207",
     "exception": false,
     "start_time": "2025-04-07T10:16:41.527152",
     "status": "completed"
    },
    "tags": []
   },
   "outputs": [
    {
     "data": {
      "image/png": "[encoded data removed]",
      "text/plain": [
       "<Figure size 1200x500 with 2 Axes>"
      ]
     },
     "metadata": {},
     "output_type": "display_data"
    }
   ],
   "source": [
    "df[['Quantity', 'UnitPrice']].hist(bins=50, figsize=(12, 5), layout=(1, 2), log=True)\n",
    "plt.show()"
   ]
  },
  {
   "cell_type": "markdown",
   "id": "c913fdfa",
   "metadata": {
    "papermill": {
     "duration": 0.009314,
     "end_time": "2025-04-07T10:16:42.539446",
     "exception": false,
     "start_time": "2025-04-07T10:16:42.530132",
     "status": "completed"
    },
    "tags": []
   },
   "source": [
    "## Option 2_Qauantity, UnitPrice: value range cleaning"
   ]
  },
  {
   "cell_type": "markdown",
   "id": "538bda59",
   "metadata": {
    "papermill": {
     "duration": 0.009137,
     "end_time": "2025-04-07T10:16:42.557884",
     "exception": false,
     "start_time": "2025-04-07T10:16:42.548747",
     "status": "completed"
    },
    "tags": []
   },
   "source": [
    "Remove outliers by applying Interquartile Range (IQR) method"
   ]
  },
  {
   "cell_type": "code",
   "execution_count": 13,
   "id": "0696473d",
   "metadata": {
    "execution": {
     "iopub.execute_input": "2025-04-07T10:16:42.57744Z",
     "iopub.status.busy": "2025-04-07T10:16:42.577171Z",
     "iopub.status.idle": "2025-04-07T10:16:42.580285Z",
     "shell.execute_reply": "2025-04-07T10:16:42.579535Z"
    },
    "papermill": {
     "duration": 0.014343,
     "end_time": "2025-04-07T10:16:42.581602",
     "exception": false,
     "start_time": "2025-04-07T10:16:42.567259",
     "status": "completed"
    },
    "tags": []
   },
   "outputs": [],
   "source": [
    "# Function: outlier remove\n",
    "# def remove_outliers_iqr(df, column):\n",
    "#     Q1 = df[column].quantile(0.25)\n",
    "#     Q3 = df[column].quantile(0.75)\n",
    "#     IQR = Q3 - Q1\n",
    "#     lower_bound = Q1 - 1.5 * IQR\n",
    "#     upper_bound = Q3 + 1.5 * IQR\n",
    "#     df = df[(df[column] >= lower_bound) & (df[column] <= upper_bound)]\n",
    "#     return df\n",
    "\n",
    "# # Quantity outlier remove\n",
    "# df = remove_outliers_iqr(df, 'Quantity')\n",
    "\n",
    "# # UnitPrice outlier remove\n",
    "# df = remove_outliers_iqr(df, 'UnitPrice')\n",
    "\n",
    "# df[['Quantity', 'UnitPrice']].describe()"
   ]
  },
  {
   "cell_type": "code",
   "execution_count": 14,
   "id": "3588c2e5",
   "metadata": {
    "execution": {
     "iopub.execute_input": "2025-04-07T10:16:42.600902Z",
     "iopub.status.busy": "2025-04-07T10:16:42.600706Z",
     "iopub.status.idle": "2025-04-07T10:16:42.603264Z",
     "shell.execute_reply": "2025-04-07T10:16:42.602704Z"
    },
    "papermill": {
     "duration": 0.013396,
     "end_time": "2025-04-07T10:16:42.604384",
     "exception": false,
     "start_time": "2025-04-07T10:16:42.590988",
     "status": "completed"
    },
    "tags": []
   },
   "outputs": [],
   "source": [
    "# print(df[['Quantity', 'UnitPrice']].describe())\n",
    "\n",
    "# df[['Quantity', 'UnitPrice']].hist(bins=50, figsize=(12, 5), layout=(1, 2), log=True)\n",
    "# plt.show()"
   ]
  },
  {
   "cell_type": "markdown",
   "id": "cbf29d48",
   "metadata": {
    "papermill": {
     "duration": 0.009057,
     "end_time": "2025-04-07T10:16:42.622829",
     "exception": false,
     "start_time": "2025-04-07T10:16:42.613772",
     "status": "completed"
    },
    "tags": []
   },
   "source": [
    "# Feature engeneering: add column"
   ]
  },
  {
   "cell_type": "code",
   "execution_count": 15,
   "id": "603708d6",
   "metadata": {
    "execution": {
     "iopub.execute_input": "2025-04-07T10:16:42.641961Z",
     "iopub.status.busy": "2025-04-07T10:16:42.641768Z",
     "iopub.status.idle": "2025-04-07T10:16:42.653531Z",
     "shell.execute_reply": "2025-04-07T10:16:42.652941Z"
    },
    "papermill": {
     "duration": 0.022796,
     "end_time": "2025-04-07T10:16:42.654801",
     "exception": false,
     "start_time": "2025-04-07T10:16:42.632005",
     "status": "completed"
    },
    "tags": []
   },
   "outputs": [],
   "source": [
    "# Create Total_Price column\n",
    "df['Total_Price'] = df['Quantity'] * df['UnitPrice']"
   ]
  },
  {
   "cell_type": "code",
   "execution_count": 16,
   "id": "ce0383db",
   "metadata": {
    "execution": {
     "iopub.execute_input": "2025-04-07T10:16:42.675495Z",
     "iopub.status.busy": "2025-04-07T10:16:42.675277Z",
     "iopub.status.idle": "2025-04-07T10:16:42.697808Z",
     "shell.execute_reply": "2025-04-07T10:16:42.697135Z"
    },
    "papermill": {
     "duration": 0.034892,
     "end_time": "2025-04-07T10:16:42.699024",
     "exception": false,
     "start_time": "2025-04-07T10:16:42.664132",
     "status": "completed"
    },
    "tags": []
   },
   "outputs": [
    {
     "data": {
      "text/html": [
       "<div>\n",
       "<style scoped>\n",
       "    .dataframe tbody tr th:only-of-type {\n",
       "        vertical-align: middle;\n",
       "    }\n",
       "\n",
       "    .dataframe tbody tr th {\n",
       "        vertical-align: top;\n",
       "    }\n",
       "\n",
       "    .dataframe thead th {\n",
       "        text-align: right;\n",
       "    }\n",
       "</style>\n",
       "<table border=\"1\" class=\"dataframe\">\n",
       "  <thead>\n",
       "    <tr style=\"text-align: right;\">\n",
       "      <th></th>\n",
       "      <th>InvoiceNo</th>\n",
       "      <th>StockCode</th>\n",
       "      <th>Description</th>\n",
       "      <th>Quantity</th>\n",
       "      <th>InvoiceDate</th>\n",
       "      <th>UnitPrice</th>\n",
       "      <th>CustomerID</th>\n",
       "      <th>Country</th>\n",
       "      <th>Total_Price</th>\n",
       "      <th>Month</th>\n",
       "    </tr>\n",
       "  </thead>\n",
       "  <tbody>\n",
       "    <tr>\n",
       "      <th>0</th>\n",
       "      <td>536365</td>\n",
       "      <td>85123A</td>\n",
       "      <td>WHITE HANGING HEART T-LIGHT HOLDER</td>\n",
       "      <td>6</td>\n",
       "      <td>2010-12-01 08:26:00</td>\n",
       "      <td>2.55</td>\n",
       "      <td>17850.0</td>\n",
       "      <td>United Kingdom</td>\n",
       "      <td>15.30</td>\n",
       "      <td>12</td>\n",
       "    </tr>\n",
       "    <tr>\n",
       "      <th>1</th>\n",
       "      <td>536365</td>\n",
       "      <td>71053</td>\n",
       "      <td>WHITE METAL LANTERN</td>\n",
       "      <td>6</td>\n",
       "      <td>2010-12-01 08:26:00</td>\n",
       "      <td>3.39</td>\n",
       "      <td>17850.0</td>\n",
       "      <td>United Kingdom</td>\n",
       "      <td>20.34</td>\n",
       "      <td>12</td>\n",
       "    </tr>\n",
       "    <tr>\n",
       "      <th>2</th>\n",
       "      <td>536365</td>\n",
       "      <td>84406B</td>\n",
       "      <td>CREAM CUPID HEARTS COAT HANGER</td>\n",
       "      <td>8</td>\n",
       "      <td>2010-12-01 08:26:00</td>\n",
       "      <td>2.75</td>\n",
       "      <td>17850.0</td>\n",
       "      <td>United Kingdom</td>\n",
       "      <td>22.00</td>\n",
       "      <td>12</td>\n",
       "    </tr>\n",
       "    <tr>\n",
       "      <th>3</th>\n",
       "      <td>536365</td>\n",
       "      <td>84029G</td>\n",
       "      <td>KNITTED UNION FLAG HOT WATER BOTTLE</td>\n",
       "      <td>6</td>\n",
       "      <td>2010-12-01 08:26:00</td>\n",
       "      <td>3.39</td>\n",
       "      <td>17850.0</td>\n",
       "      <td>United Kingdom</td>\n",
       "      <td>20.34</td>\n",
       "      <td>12</td>\n",
       "    </tr>\n",
       "    <tr>\n",
       "      <th>4</th>\n",
       "      <td>536365</td>\n",
       "      <td>84029E</td>\n",
       "      <td>RED WOOLLY HOTTIE WHITE HEART.</td>\n",
       "      <td>6</td>\n",
       "      <td>2010-12-01 08:26:00</td>\n",
       "      <td>3.39</td>\n",
       "      <td>17850.0</td>\n",
       "      <td>United Kingdom</td>\n",
       "      <td>20.34</td>\n",
       "      <td>12</td>\n",
       "    </tr>\n",
       "  </tbody>\n",
       "</table>\n",
       "</div>"
      ],
      "text/plain": [
       "  InvoiceNo StockCode                          Description  Quantity  \\\n",
       "0    536365    85123A   WHITE HANGING HEART T-LIGHT HOLDER         6   \n",
       "1    536365     71053                  WHITE METAL LANTERN         6   \n",
       "2    536365    84406B       CREAM CUPID HEARTS COAT HANGER         8   \n",
       "3    536365    84029G  KNITTED UNION FLAG HOT WATER BOTTLE         6   \n",
       "4    536365    84029E       RED WOOLLY HOTTIE WHITE HEART.         6   \n",
       "\n",
       "          InvoiceDate  UnitPrice  CustomerID         Country  Total_Price  \\\n",
       "0 2010-12-01 08:26:00       2.55     17850.0  United Kingdom        15.30   \n",
       "1 2010-12-01 08:26:00       3.39     17850.0  United Kingdom        20.34   \n",
       "2 2010-12-01 08:26:00       2.75     17850.0  United Kingdom        22.00   \n",
       "3 2010-12-01 08:26:00       3.39     17850.0  United Kingdom        20.34   \n",
       "4 2010-12-01 08:26:00       3.39     17850.0  United Kingdom        20.34   \n",
       "\n",
       "   Month  \n",
       "0     12  \n",
       "1     12  \n",
       "2     12  \n",
       "3     12  \n",
       "4     12  "
      ]
     },
     "execution_count": 16,
     "metadata": {},
     "output_type": "execute_result"
    }
   ],
   "source": [
    "# Creat Month column\n",
    "df['Month'] = df['InvoiceDate'].dt.month\n",
    "df.head(5)"
   ]
  },
  {
   "cell_type": "markdown",
   "id": "a51e48fd",
   "metadata": {
    "papermill": {
     "duration": 0.009534,
     "end_time": "2025-04-07T10:16:42.718104",
     "exception": false,
     "start_time": "2025-04-07T10:16:42.70857",
     "status": "completed"
    },
    "tags": []
   },
   "source": [
    "# Data Visualization and Insights"
   ]
  },
  {
   "cell_type": "markdown",
   "id": "322be01c",
   "metadata": {
    "papermill": {
     "duration": 0.009243,
     "end_time": "2025-04-07T10:16:42.736807",
     "exception": false,
     "start_time": "2025-04-07T10:16:42.727564",
     "status": "completed"
    },
    "tags": []
   },
   "source": [
    "## 1. Plot montly total sales trend"
   ]
  },
  {
   "cell_type": "code",
   "execution_count": 17,
   "id": "acf05d89",
   "metadata": {
    "execution": {
     "iopub.execute_input": "2025-04-07T10:16:42.756752Z",
     "iopub.status.busy": "2025-04-07T10:16:42.756541Z",
     "iopub.status.idle": "2025-04-07T10:16:42.772028Z",
     "shell.execute_reply": "2025-04-07T10:16:42.771396Z"
    },
    "papermill": {
     "duration": 0.026637,
     "end_time": "2025-04-07T10:16:42.773136",
     "exception": false,
     "start_time": "2025-04-07T10:16:42.746499",
     "status": "completed"
    },
    "tags": []
   },
   "outputs": [
    {
     "data": {
      "text/plain": [
       "Month\n",
       "1      691364.560\n",
       "2      523631.890\n",
       "3      717639.360\n",
       "4      537808.621\n",
       "5      770536.020\n",
       "6      761739.900\n",
       "7      719221.191\n",
       "8      759138.380\n",
       "9     1058590.172\n",
       "10    1154979.300\n",
       "11    1509496.330\n",
       "12    1462538.820\n",
       "Name: Total_Price, dtype: float64"
      ]
     },
     "execution_count": 17,
     "metadata": {},
     "output_type": "execute_result"
    }
   ],
   "source": [
    "monthly_sales = df.groupby('Month')['Total_Price'].sum()\n",
    "monthly_sales"
   ]
  },
  {
   "cell_type": "code",
   "execution_count": 18,
   "id": "e256628b",
   "metadata": {
    "execution": {
     "iopub.execute_input": "2025-04-07T10:16:42.7928Z",
     "iopub.status.busy": "2025-04-07T10:16:42.792595Z",
     "iopub.status.idle": "2025-04-07T10:16:42.957336Z",
     "shell.execute_reply": "2025-04-07T10:16:42.956387Z"
    },
    "papermill": {
     "duration": 0.175766,
     "end_time": "2025-04-07T10:16:42.958444",
     "exception": false,
     "start_time": "2025-04-07T10:16:42.782678",
     "status": "completed"
    },
    "tags": []
   },
   "outputs": [
    {
     "data": {
      "image/png": "[encoded data removed]",
      "text/plain": [
       "<Figure size 1000x600 with 1 Axes>"
      ]
     },
     "metadata": {},
     "output_type": "display_data"
    }
   ],
   "source": [
    "monthly_sales.plot(kind='line', figsize=(10, 6), marker='o')\n",
    "plt.title('Monthly Total Sales Trend')\n",
    "plt.xlabel('Month')\n",
    "plt.ylabel('Total Sales')\n",
    "plt.grid(True)\n",
    "plt.show()"
   ]
  },
  {
   "cell_type": "markdown",
   "id": "a93821f9",
   "metadata": {
    "papermill": {
     "duration": 0.010065,
     "end_time": "2025-04-07T10:16:42.979228",
     "exception": false,
     "start_time": "2025-04-07T10:16:42.969163",
     "status": "completed"
    },
    "tags": []
   },
   "source": [
    "## Insights\n",
    "Total sales increases from August and show a peek in November. This is likely due to the christmas holiday season."
   ]
  },
  {
   "cell_type": "markdown",
   "id": "ae0e93d4",
   "metadata": {
    "papermill": {
     "duration": 0.010087,
     "end_time": "2025-04-07T10:16:42.999667",
     "exception": false,
     "start_time": "2025-04-07T10:16:42.98958",
     "status": "completed"
    },
    "tags": []
   },
   "source": [
    "## 2. Top 5 countries based on total sales"
   ]
  },
  {
   "cell_type": "code",
   "execution_count": 19,
   "id": "84d1e78d",
   "metadata": {
    "execution": {
     "iopub.execute_input": "2025-04-07T10:16:43.021136Z",
     "iopub.status.busy": "2025-04-07T10:16:43.020926Z",
     "iopub.status.idle": "2025-04-07T10:16:43.06135Z",
     "shell.execute_reply": "2025-04-07T10:16:43.060704Z"
    },
    "papermill": {
     "duration": 0.052479,
     "end_time": "2025-04-07T10:16:43.062589",
     "exception": false,
     "start_time": "2025-04-07T10:16:43.01011",
     "status": "completed"
    },
    "tags": []
   },
   "outputs": [
    {
     "data": {
      "text/plain": [
       "Country\n",
       "United Kingdom    9025222.084\n",
       "Netherlands        285446.340\n",
       "EIRE               283453.960\n",
       "Germany            228867.140\n",
       "France             209715.110\n",
       "Name: Total_Price, dtype: float64"
      ]
     },
     "execution_count": 19,
     "metadata": {},
     "output_type": "execute_result"
    }
   ],
   "source": [
    "top_5_countries = df.groupby('Country')['Total_Price'].sum().sort_values(ascending=False).head(5)\n",
    "top_5_countries.head()"
   ]
  },
  {
   "cell_type": "code",
   "execution_count": 20,
   "id": "352b4bf1",
   "metadata": {
    "execution": {
     "iopub.execute_input": "2025-04-07T10:16:43.084266Z",
     "iopub.status.busy": "2025-04-07T10:16:43.084059Z",
     "iopub.status.idle": "2025-04-07T10:16:43.36959Z",
     "shell.execute_reply": "2025-04-07T10:16:43.368657Z"
    },
    "papermill": {
     "duration": 0.298014,
     "end_time": "2025-04-07T10:16:43.371062",
     "exception": false,
     "start_time": "2025-04-07T10:16:43.073048",
     "status": "completed"
    },
    "tags": []
   },
   "outputs": [
    {
     "data": {
      "image/png": "[encoded data removed]",
      "text/plain": [
       "<Figure size 700x500 with 1 Axes>"
      ]
     },
     "metadata": {},
     "output_type": "display_data"
    },
    {
     "data": {
      "image/png": "[encoded data removed]",
      "text/plain": [
       "<Figure size 700x700 with 1 Axes>"
      ]
     },
     "metadata": {},
     "output_type": "display_data"
    }
   ],
   "source": [
    "colors = sns.color_palette(\"pastel\", n_colors=5)\n",
    "\n",
    "# Creat barchart\n",
    "plt.figure(figsize=(7, 5))\n",
    "sns.barplot(y=top_5_countries.index, x=top_5_countries.values, palette=\"pastel\")\n",
    "\n",
    "plt.title('Top 5 Countries by Total Sales')\n",
    "plt.xlabel('Country')\n",
    "plt.ylabel('Total Sales')\n",
    "plt.grid(axis='x');\n",
    "\n",
    "# Create the pie chart\n",
    "plt.figure(figsize=(7, 7))\n",
    "plt.pie(top_5_countries.values, labels=top_5_countries.index, autopct='%1.1f%%', colors=colors)\n",
    "plt.title('Top 5 Countries by Total Sales')\n",
    "plt.axis('equal');"
   ]
  },
  {
   "cell_type": "markdown",
   "id": "fe030b09",
   "metadata": {
    "papermill": {
     "duration": 0.049838,
     "end_time": "2025-04-07T10:16:43.433935",
     "exception": false,
     "start_time": "2025-04-07T10:16:43.384097",
     "status": "completed"
    },
    "tags": []
   },
   "source": [
    "## Insights\n",
    "1. UK Dominates Sales (92% among Top 5 Countries)\n",
    "\n",
    "- The United Kingdom contributes the majority of sales, making it the primary focus for customer care and retention strategies.\n",
    "- Ensuring high customer satisfaction and loyalty in the UK should be a priority.\n",
    "\n",
    "2. Expansion Strategy\n",
    "\n",
    "- For future growth, expanding sales in other countries is essential.\n",
    "- Instead of starting from scratch, we can leverage existing markets.\n",
    "- Germany, France, and EIRE (ranked 2nd to 4th) should be our initial expansion targets, as they already have a customer base."
   ]
  },
  {
   "cell_type": "markdown",
   "id": "4e4148f1",
   "metadata": {
    "papermill": {
     "duration": 0.011533,
     "end_time": "2025-04-07T10:16:43.457318",
     "exception": false,
     "start_time": "2025-04-07T10:16:43.445785",
     "status": "completed"
    },
    "tags": []
   },
   "source": [
    "## 3. Top 5 products based on total sales"
   ]
  },
  {
   "cell_type": "code",
   "execution_count": 21,
   "id": "d6c3625d",
   "metadata": {
    "execution": {
     "iopub.execute_input": "2025-04-07T10:16:43.481238Z",
     "iopub.status.busy": "2025-04-07T10:16:43.480938Z",
     "iopub.status.idle": "2025-04-07T10:16:43.524634Z",
     "shell.execute_reply": "2025-04-07T10:16:43.523941Z"
    },
    "papermill": {
     "duration": 0.057096,
     "end_time": "2025-04-07T10:16:43.525863",
     "exception": false,
     "start_time": "2025-04-07T10:16:43.468767",
     "status": "completed"
    },
    "tags": []
   },
   "outputs": [
    {
     "data": {
      "text/plain": [
       "StockCode\n",
       "DOT       206248.77\n",
       "22423     174484.74\n",
       "23843     168469.60\n",
       "85123A    104518.80\n",
       "47566      99504.33\n",
       "Name: Total_Price, dtype: float64"
      ]
     },
     "execution_count": 21,
     "metadata": {},
     "output_type": "execute_result"
    }
   ],
   "source": [
    "top_5_products = df.groupby('StockCode')['Total_Price'].sum().sort_values(ascending=False).head(5)\n",
    "top_5_products"
   ]
  },
  {
   "cell_type": "code",
   "execution_count": 22,
   "id": "4ce68fd4",
   "metadata": {
    "execution": {
     "iopub.execute_input": "2025-04-07T10:16:43.550599Z",
     "iopub.status.busy": "2025-04-07T10:16:43.550325Z",
     "iopub.status.idle": "2025-04-07T10:16:43.599604Z",
     "shell.execute_reply": "2025-04-07T10:16:43.598907Z"
    },
    "papermill": {
     "duration": 0.063125,
     "end_time": "2025-04-07T10:16:43.600857",
     "exception": false,
     "start_time": "2025-04-07T10:16:43.537732",
     "status": "completed"
    },
    "tags": []
   },
   "outputs": [
    {
     "name": "stderr",
     "output_type": "stream",
     "text": [
      "/usr/local/lib/python3.10/dist-packages/pandas/io/formats/format.py:1458: RuntimeWarning: invalid value encountered in greater\n",
      "  has_large_values = (abs_vals > 1e6).any()\n",
      "/usr/local/lib/python3.10/dist-packages/pandas/io/formats/format.py:1459: RuntimeWarning: invalid value encountered in less\n",
      "  has_small_values = ((abs_vals < 10 ** (-self.digits)) & (abs_vals > 0)).any()\n",
      "/usr/local/lib/python3.10/dist-packages/pandas/io/formats/format.py:1459: RuntimeWarning: invalid value encountered in greater\n",
      "  has_small_values = ((abs_vals < 10 ** (-self.digits)) & (abs_vals > 0)).any()\n"
     ]
    },
    {
     "data": {
      "text/html": [
       "<div>\n",
       "<style scoped>\n",
       "    .dataframe tbody tr th:only-of-type {\n",
       "        vertical-align: middle;\n",
       "    }\n",
       "\n",
       "    .dataframe tbody tr th {\n",
       "        vertical-align: top;\n",
       "    }\n",
       "\n",
       "    .dataframe thead th {\n",
       "        text-align: right;\n",
       "    }\n",
       "</style>\n",
       "<table border=\"1\" class=\"dataframe\">\n",
       "  <thead>\n",
       "    <tr style=\"text-align: right;\">\n",
       "      <th></th>\n",
       "      <th>InvoiceNo</th>\n",
       "      <th>StockCode</th>\n",
       "      <th>Description</th>\n",
       "      <th>Quantity</th>\n",
       "      <th>InvoiceDate</th>\n",
       "      <th>UnitPrice</th>\n",
       "      <th>CustomerID</th>\n",
       "      <th>Country</th>\n",
       "      <th>Total_Price</th>\n",
       "      <th>Month</th>\n",
       "    </tr>\n",
       "  </thead>\n",
       "  <tbody>\n",
       "    <tr>\n",
       "      <th>1814</th>\n",
       "      <td>536544</td>\n",
       "      <td>DOT</td>\n",
       "      <td>DOTCOM POSTAGE</td>\n",
       "      <td>1</td>\n",
       "      <td>2010-12-01 14:32:00</td>\n",
       "      <td>569.77</td>\n",
       "      <td>NaN</td>\n",
       "      <td>United Kingdom</td>\n",
       "      <td>569.77</td>\n",
       "      <td>12</td>\n",
       "    </tr>\n",
       "    <tr>\n",
       "      <th>3041</th>\n",
       "      <td>536592</td>\n",
       "      <td>DOT</td>\n",
       "      <td>DOTCOM POSTAGE</td>\n",
       "      <td>1</td>\n",
       "      <td>2010-12-01 17:06:00</td>\n",
       "      <td>607.49</td>\n",
       "      <td>NaN</td>\n",
       "      <td>United Kingdom</td>\n",
       "      <td>607.49</td>\n",
       "      <td>12</td>\n",
       "    </tr>\n",
       "    <tr>\n",
       "      <th>5450</th>\n",
       "      <td>536862</td>\n",
       "      <td>DOT</td>\n",
       "      <td>DOTCOM POSTAGE</td>\n",
       "      <td>1</td>\n",
       "      <td>2010-12-03 11:13:00</td>\n",
       "      <td>254.43</td>\n",
       "      <td>NaN</td>\n",
       "      <td>United Kingdom</td>\n",
       "      <td>254.43</td>\n",
       "      <td>12</td>\n",
       "    </tr>\n",
       "    <tr>\n",
       "      <th>5545</th>\n",
       "      <td>536864</td>\n",
       "      <td>DOT</td>\n",
       "      <td>DOTCOM POSTAGE</td>\n",
       "      <td>1</td>\n",
       "      <td>2010-12-03 11:27:00</td>\n",
       "      <td>121.06</td>\n",
       "      <td>NaN</td>\n",
       "      <td>United Kingdom</td>\n",
       "      <td>121.06</td>\n",
       "      <td>12</td>\n",
       "    </tr>\n",
       "    <tr>\n",
       "      <th>5685</th>\n",
       "      <td>536865</td>\n",
       "      <td>DOT</td>\n",
       "      <td>DOTCOM POSTAGE</td>\n",
       "      <td>1</td>\n",
       "      <td>2010-12-03 11:28:00</td>\n",
       "      <td>498.47</td>\n",
       "      <td>NaN</td>\n",
       "      <td>United Kingdom</td>\n",
       "      <td>498.47</td>\n",
       "      <td>12</td>\n",
       "    </tr>\n",
       "    <tr>\n",
       "      <th>...</th>\n",
       "      <td>...</td>\n",
       "      <td>...</td>\n",
       "      <td>...</td>\n",
       "      <td>...</td>\n",
       "      <td>...</td>\n",
       "      <td>...</td>\n",
       "      <td>...</td>\n",
       "      <td>...</td>\n",
       "      <td>...</td>\n",
       "      <td>...</td>\n",
       "    </tr>\n",
       "    <tr>\n",
       "      <th>536834</th>\n",
       "      <td>581219</td>\n",
       "      <td>DOT</td>\n",
       "      <td>DOTCOM POSTAGE</td>\n",
       "      <td>1</td>\n",
       "      <td>2011-12-08 09:28:00</td>\n",
       "      <td>1008.96</td>\n",
       "      <td>NaN</td>\n",
       "      <td>United Kingdom</td>\n",
       "      <td>1008.96</td>\n",
       "      <td>12</td>\n",
       "    </tr>\n",
       "    <tr>\n",
       "      <th>537254</th>\n",
       "      <td>581238</td>\n",
       "      <td>DOT</td>\n",
       "      <td>DOTCOM POSTAGE</td>\n",
       "      <td>1</td>\n",
       "      <td>2011-12-08 10:53:00</td>\n",
       "      <td>1683.75</td>\n",
       "      <td>NaN</td>\n",
       "      <td>United Kingdom</td>\n",
       "      <td>1683.75</td>\n",
       "      <td>12</td>\n",
       "    </tr>\n",
       "    <tr>\n",
       "      <th>539368</th>\n",
       "      <td>581439</td>\n",
       "      <td>DOT</td>\n",
       "      <td>DOTCOM POSTAGE</td>\n",
       "      <td>1</td>\n",
       "      <td>2011-12-08 16:30:00</td>\n",
       "      <td>938.59</td>\n",
       "      <td>NaN</td>\n",
       "      <td>United Kingdom</td>\n",
       "      <td>938.59</td>\n",
       "      <td>12</td>\n",
       "    </tr>\n",
       "    <tr>\n",
       "      <th>540908</th>\n",
       "      <td>581492</td>\n",
       "      <td>DOT</td>\n",
       "      <td>DOTCOM POSTAGE</td>\n",
       "      <td>1</td>\n",
       "      <td>2011-12-09 10:03:00</td>\n",
       "      <td>933.17</td>\n",
       "      <td>NaN</td>\n",
       "      <td>United Kingdom</td>\n",
       "      <td>933.17</td>\n",
       "      <td>12</td>\n",
       "    </tr>\n",
       "    <tr>\n",
       "      <th>541540</th>\n",
       "      <td>581498</td>\n",
       "      <td>DOT</td>\n",
       "      <td>DOTCOM POSTAGE</td>\n",
       "      <td>1</td>\n",
       "      <td>2011-12-09 10:26:00</td>\n",
       "      <td>1714.17</td>\n",
       "      <td>NaN</td>\n",
       "      <td>United Kingdom</td>\n",
       "      <td>1714.17</td>\n",
       "      <td>12</td>\n",
       "    </tr>\n",
       "  </tbody>\n",
       "</table>\n",
       "<p>706 rows × 10 columns</p>\n",
       "</div>"
      ],
      "text/plain": [
       "       InvoiceNo StockCode     Description  Quantity         InvoiceDate  \\\n",
       "1814      536544       DOT  DOTCOM POSTAGE         1 2010-12-01 14:32:00   \n",
       "3041      536592       DOT  DOTCOM POSTAGE         1 2010-12-01 17:06:00   \n",
       "5450      536862       DOT  DOTCOM POSTAGE         1 2010-12-03 11:13:00   \n",
       "5545      536864       DOT  DOTCOM POSTAGE         1 2010-12-03 11:27:00   \n",
       "5685      536865       DOT  DOTCOM POSTAGE         1 2010-12-03 11:28:00   \n",
       "...          ...       ...             ...       ...                 ...   \n",
       "536834    581219       DOT  DOTCOM POSTAGE         1 2011-12-08 09:28:00   \n",
       "537254    581238       DOT  DOTCOM POSTAGE         1 2011-12-08 10:53:00   \n",
       "539368    581439       DOT  DOTCOM POSTAGE         1 2011-12-08 16:30:00   \n",
       "540908    581492       DOT  DOTCOM POSTAGE         1 2011-12-09 10:03:00   \n",
       "541540    581498       DOT  DOTCOM POSTAGE         1 2011-12-09 10:26:00   \n",
       "\n",
       "        UnitPrice  CustomerID         Country  Total_Price  Month  \n",
       "1814       569.77         NaN  United Kingdom       569.77     12  \n",
       "3041       607.49         NaN  United Kingdom       607.49     12  \n",
       "5450       254.43         NaN  United Kingdom       254.43     12  \n",
       "5545       121.06         NaN  United Kingdom       121.06     12  \n",
       "5685       498.47         NaN  United Kingdom       498.47     12  \n",
       "...           ...         ...             ...          ...    ...  \n",
       "536834    1008.96         NaN  United Kingdom      1008.96     12  \n",
       "537254    1683.75         NaN  United Kingdom      1683.75     12  \n",
       "539368     938.59         NaN  United Kingdom       938.59     12  \n",
       "540908     933.17         NaN  United Kingdom       933.17     12  \n",
       "541540    1714.17         NaN  United Kingdom      1714.17     12  \n",
       "\n",
       "[706 rows x 10 columns]"
      ]
     },
     "execution_count": 22,
     "metadata": {},
     "output_type": "execute_result"
    }
   ],
   "source": [
    "df[df['StockCode'] == \"DOT\"]"
   ]
  },
  {
   "cell_type": "code",
   "execution_count": 23,
   "id": "c678a453",
   "metadata": {
    "execution": {
     "iopub.execute_input": "2025-04-07T10:16:43.625282Z",
     "iopub.status.busy": "2025-04-07T10:16:43.625075Z",
     "iopub.status.idle": "2025-04-07T10:16:44.059768Z",
     "shell.execute_reply": "2025-04-07T10:16:44.058766Z"
    },
    "papermill": {
     "duration": 0.448258,
     "end_time": "2025-04-07T10:16:44.061099",
     "exception": false,
     "start_time": "2025-04-07T10:16:43.612841",
     "status": "completed"
    },
    "tags": []
   },
   "outputs": [
    {
     "name": "stdout",
     "output_type": "stream",
     "text": [
      "DOT = DOTCOM POSTAGE\n",
      "22423 = REGENCY CAKESTAND 3 TIER\n",
      "23843 = PAPER CRAFT , LITTLE BIRDIE\n",
      "85123A = WHITE HANGING HEART T-LIGHT HOLDER\n",
      "47566 = PARTY BUNTING\n"
     ]
    }
   ],
   "source": [
    "description = df.groupby('StockCode')['Description'].apply(lambda x: x.mode()[0]).to_dict()\n",
    "\n",
    "# Extract descriptions for the top 5 products\n",
    "top_5_descriptions= {stock_code: description.get(stock_code, \"Description not found\") for stock_code in top_5_products.index}\n",
    "\n",
    "# Print results\n",
    "for stock_code, description in top_5_descriptions.items():\n",
    "    print(f\"{stock_code} = {description}\")"
   ]
  },
  {
   "cell_type": "markdown",
   "id": "eeb56ce9",
   "metadata": {
    "papermill": {
     "duration": 0.012211,
     "end_time": "2025-04-07T10:16:44.085645",
     "exception": false,
     "start_time": "2025-04-07T10:16:44.073434",
     "status": "completed"
    },
    "tags": []
   },
   "source": [
    "# RFM analysis\n",
    "1. Recency: How recently the customer made a purchase\n",
    "\n",
    "2. Frequency: How often the customer makes a purchase\n",
    "\n",
    "3. Monetary: How much the customer spends"
   ]
  },
  {
   "cell_type": "code",
   "execution_count": 24,
   "id": "56298366",
   "metadata": {
    "execution": {
     "iopub.execute_input": "2025-04-07T10:16:44.110954Z",
     "iopub.status.busy": "2025-04-07T10:16:44.110675Z",
     "iopub.status.idle": "2025-04-07T10:16:44.523526Z",
     "shell.execute_reply": "2025-04-07T10:16:44.522678Z"
    },
    "papermill": {
     "duration": 0.427163,
     "end_time": "2025-04-07T10:16:44.525055",
     "exception": false,
     "start_time": "2025-04-07T10:16:44.097892",
     "status": "completed"
    },
    "tags": []
   },
   "outputs": [
    {
     "data": {
      "text/html": [
       "<div>\n",
       "<style scoped>\n",
       "    .dataframe tbody tr th:only-of-type {\n",
       "        vertical-align: middle;\n",
       "    }\n",
       "\n",
       "    .dataframe tbody tr th {\n",
       "        vertical-align: top;\n",
       "    }\n",
       "\n",
       "    .dataframe thead th {\n",
       "        text-align: right;\n",
       "    }\n",
       "</style>\n",
       "<table border=\"1\" class=\"dataframe\">\n",
       "  <thead>\n",
       "    <tr style=\"text-align: right;\">\n",
       "      <th></th>\n",
       "      <th>Recency</th>\n",
       "      <th>Frequency</th>\n",
       "      <th>Monetary</th>\n",
       "    </tr>\n",
       "    <tr>\n",
       "      <th>CustomerID</th>\n",
       "      <th></th>\n",
       "      <th></th>\n",
       "      <th></th>\n",
       "    </tr>\n",
       "  </thead>\n",
       "  <tbody>\n",
       "    <tr>\n",
       "      <th>12346.0</th>\n",
       "      <td>325</td>\n",
       "      <td>1</td>\n",
       "      <td>77183.60</td>\n",
       "    </tr>\n",
       "    <tr>\n",
       "      <th>12347.0</th>\n",
       "      <td>1</td>\n",
       "      <td>182</td>\n",
       "      <td>4310.00</td>\n",
       "    </tr>\n",
       "    <tr>\n",
       "      <th>12348.0</th>\n",
       "      <td>74</td>\n",
       "      <td>31</td>\n",
       "      <td>1797.24</td>\n",
       "    </tr>\n",
       "    <tr>\n",
       "      <th>12349.0</th>\n",
       "      <td>18</td>\n",
       "      <td>73</td>\n",
       "      <td>1757.55</td>\n",
       "    </tr>\n",
       "    <tr>\n",
       "      <th>12350.0</th>\n",
       "      <td>309</td>\n",
       "      <td>17</td>\n",
       "      <td>334.40</td>\n",
       "    </tr>\n",
       "  </tbody>\n",
       "</table>\n",
       "</div>"
      ],
      "text/plain": [
       "            Recency  Frequency  Monetary\n",
       "CustomerID                              \n",
       "12346.0         325          1  77183.60\n",
       "12347.0           1        182   4310.00\n",
       "12348.0          74         31   1797.24\n",
       "12349.0          18         73   1757.55\n",
       "12350.0         309         17    334.40"
      ]
     },
     "execution_count": 24,
     "metadata": {},
     "output_type": "execute_result"
    }
   ],
   "source": [
    "# Reference date for recency calculation\n",
    "reference_date = df['InvoiceDate'].max()\n",
    "\n",
    "# Creating new DataFrame, grouping by CustomerID and calculating RFM metrics\n",
    "df_rfm = df.groupby('CustomerID').agg({\n",
    "    'InvoiceDate': lambda x: (reference_date - x.max()).days,  # Recency (days since last purchase)\n",
    "    'InvoiceNo': 'count',                                      # Frequency (number of transactions)\n",
    "    'Total_Price': 'sum'                                       # Monetary (total money spent)\n",
    "})\n",
    "\n",
    "# Rename columns for clarity\n",
    "df_rfm = df_rfm.rename(columns={\n",
    "    'InvoiceDate': 'Recency',      # Renaming InvoiceDate column as Recency\n",
    "    'InvoiceNo': 'Frequency',      # Renaming InvoiceNo column as Frequency\n",
    "    'Total_Price': 'Monetary'      # Renaming Total_Price column as Monetary\n",
    "})\n",
    "\n",
    "# Display the first few rows of the RFM DataFrame\n",
    "df_rfm.head()"
   ]
  },
  {
   "cell_type": "code",
   "execution_count": 25,
   "id": "0e6148de",
   "metadata": {
    "execution": {
     "iopub.execute_input": "2025-04-07T10:16:44.551083Z",
     "iopub.status.busy": "2025-04-07T10:16:44.550856Z",
     "iopub.status.idle": "2025-04-07T10:16:44.564775Z",
     "shell.execute_reply": "2025-04-07T10:16:44.564106Z"
    },
    "papermill": {
     "duration": 0.027869,
     "end_time": "2025-04-07T10:16:44.565879",
     "exception": false,
     "start_time": "2025-04-07T10:16:44.53801",
     "status": "completed"
    },
    "tags": []
   },
   "outputs": [
    {
     "data": {
      "text/html": [
       "<div>\n",
       "<style scoped>\n",
       "    .dataframe tbody tr th:only-of-type {\n",
       "        vertical-align: middle;\n",
       "    }\n",
       "\n",
       "    .dataframe tbody tr th {\n",
       "        vertical-align: top;\n",
       "    }\n",
       "\n",
       "    .dataframe thead th {\n",
       "        text-align: right;\n",
       "    }\n",
       "</style>\n",
       "<table border=\"1\" class=\"dataframe\">\n",
       "  <thead>\n",
       "    <tr style=\"text-align: right;\">\n",
       "      <th></th>\n",
       "      <th>Recency</th>\n",
       "      <th>Frequency</th>\n",
       "      <th>Monetary</th>\n",
       "    </tr>\n",
       "  </thead>\n",
       "  <tbody>\n",
       "    <tr>\n",
       "      <th>count</th>\n",
       "      <td>4338.000000</td>\n",
       "      <td>4338.000000</td>\n",
       "      <td>4338.000000</td>\n",
       "    </tr>\n",
       "    <tr>\n",
       "      <th>mean</th>\n",
       "      <td>91.536422</td>\n",
       "      <td>91.720609</td>\n",
       "      <td>2054.266460</td>\n",
       "    </tr>\n",
       "    <tr>\n",
       "      <th>std</th>\n",
       "      <td>100.014169</td>\n",
       "      <td>228.785094</td>\n",
       "      <td>8989.230441</td>\n",
       "    </tr>\n",
       "    <tr>\n",
       "      <th>min</th>\n",
       "      <td>0.000000</td>\n",
       "      <td>1.000000</td>\n",
       "      <td>3.750000</td>\n",
       "    </tr>\n",
       "    <tr>\n",
       "      <th>25%</th>\n",
       "      <td>17.000000</td>\n",
       "      <td>17.000000</td>\n",
       "      <td>307.415000</td>\n",
       "    </tr>\n",
       "    <tr>\n",
       "      <th>50%</th>\n",
       "      <td>50.000000</td>\n",
       "      <td>41.000000</td>\n",
       "      <td>674.485000</td>\n",
       "    </tr>\n",
       "    <tr>\n",
       "      <th>75%</th>\n",
       "      <td>141.000000</td>\n",
       "      <td>100.000000</td>\n",
       "      <td>1661.740000</td>\n",
       "    </tr>\n",
       "    <tr>\n",
       "      <th>max</th>\n",
       "      <td>373.000000</td>\n",
       "      <td>7847.000000</td>\n",
       "      <td>280206.020000</td>\n",
       "    </tr>\n",
       "  </tbody>\n",
       "</table>\n",
       "</div>"
      ],
      "text/plain": [
       "           Recency    Frequency       Monetary\n",
       "count  4338.000000  4338.000000    4338.000000\n",
       "mean     91.536422    91.720609    2054.266460\n",
       "std     100.014169   228.785094    8989.230441\n",
       "min       0.000000     1.000000       3.750000\n",
       "25%      17.000000    17.000000     307.415000\n",
       "50%      50.000000    41.000000     674.485000\n",
       "75%     141.000000   100.000000    1661.740000\n",
       "max     373.000000  7847.000000  280206.020000"
      ]
     },
     "execution_count": 25,
     "metadata": {},
     "output_type": "execute_result"
    }
   ],
   "source": [
    "df_rfm.describe()"
   ]
  },
  {
   "cell_type": "code",
   "execution_count": 26,
   "id": "c30b663d",
   "metadata": {
    "execution": {
     "iopub.execute_input": "2025-04-07T10:16:44.591246Z",
     "iopub.status.busy": "2025-04-07T10:16:44.591035Z",
     "iopub.status.idle": "2025-04-07T10:16:44.598267Z",
     "shell.execute_reply": "2025-04-07T10:16:44.597432Z"
    },
    "papermill": {
     "duration": 0.02093,
     "end_time": "2025-04-07T10:16:44.599414",
     "exception": false,
     "start_time": "2025-04-07T10:16:44.578484",
     "status": "completed"
    },
    "tags": []
   },
   "outputs": [
    {
     "name": "stdout",
     "output_type": "stream",
     "text": [
      "<class 'pandas.core.frame.DataFrame'>\n",
      "Index: 4338 entries, 12346.0 to 18287.0\n",
      "Data columns (total 3 columns):\n",
      " #   Column     Non-Null Count  Dtype  \n",
      "---  ------     --------------  -----  \n",
      " 0   Recency    4338 non-null   int64  \n",
      " 1   Frequency  4338 non-null   int64  \n",
      " 2   Monetary   4338 non-null   float64\n",
      "dtypes: float64(1), int64(2)\n",
      "memory usage: 135.6 KB\n"
     ]
    }
   ],
   "source": [
    "df_rfm.info()"
   ]
  },
  {
   "cell_type": "markdown",
   "id": "6a88e337",
   "metadata": {
    "papermill": {
     "duration": 0.01223,
     "end_time": "2025-04-07T10:16:44.623932",
     "exception": false,
     "start_time": "2025-04-07T10:16:44.611702",
     "status": "completed"
    },
    "tags": []
   },
   "source": [
    "# Segment Customers based on RFM"
   ]
  },
  {
   "cell_type": "code",
   "execution_count": 27,
   "id": "113a2491",
   "metadata": {
    "execution": {
     "iopub.execute_input": "2025-04-07T10:16:44.649243Z",
     "iopub.status.busy": "2025-04-07T10:16:44.649043Z",
     "iopub.status.idle": "2025-04-07T10:16:44.668902Z",
     "shell.execute_reply": "2025-04-07T10:16:44.668146Z"
    },
    "papermill": {
     "duration": 0.034038,
     "end_time": "2025-04-07T10:16:44.670202",
     "exception": false,
     "start_time": "2025-04-07T10:16:44.636164",
     "status": "completed"
    },
    "tags": []
   },
   "outputs": [
    {
     "data": {
      "text/html": [
       "<div>\n",
       "<style scoped>\n",
       "    .dataframe tbody tr th:only-of-type {\n",
       "        vertical-align: middle;\n",
       "    }\n",
       "\n",
       "    .dataframe tbody tr th {\n",
       "        vertical-align: top;\n",
       "    }\n",
       "\n",
       "    .dataframe thead th {\n",
       "        text-align: right;\n",
       "    }\n",
       "</style>\n",
       "<table border=\"1\" class=\"dataframe\">\n",
       "  <thead>\n",
       "    <tr style=\"text-align: right;\">\n",
       "      <th></th>\n",
       "      <th>Recency</th>\n",
       "      <th>Frequency</th>\n",
       "      <th>Monetary</th>\n",
       "      <th>R_seg</th>\n",
       "      <th>F_seg</th>\n",
       "      <th>M_seg</th>\n",
       "      <th>RFM_score</th>\n",
       "    </tr>\n",
       "    <tr>\n",
       "      <th>CustomerID</th>\n",
       "      <th></th>\n",
       "      <th></th>\n",
       "      <th></th>\n",
       "      <th></th>\n",
       "      <th></th>\n",
       "      <th></th>\n",
       "      <th></th>\n",
       "    </tr>\n",
       "  </thead>\n",
       "  <tbody>\n",
       "    <tr>\n",
       "      <th>12346.0</th>\n",
       "      <td>325</td>\n",
       "      <td>1</td>\n",
       "      <td>77183.60</td>\n",
       "      <td>1</td>\n",
       "      <td>1</td>\n",
       "      <td>4</td>\n",
       "      <td>6</td>\n",
       "    </tr>\n",
       "    <tr>\n",
       "      <th>12347.0</th>\n",
       "      <td>1</td>\n",
       "      <td>182</td>\n",
       "      <td>4310.00</td>\n",
       "      <td>4</td>\n",
       "      <td>4</td>\n",
       "      <td>4</td>\n",
       "      <td>12</td>\n",
       "    </tr>\n",
       "    <tr>\n",
       "      <th>12348.0</th>\n",
       "      <td>74</td>\n",
       "      <td>31</td>\n",
       "      <td>1797.24</td>\n",
       "      <td>2</td>\n",
       "      <td>2</td>\n",
       "      <td>4</td>\n",
       "      <td>8</td>\n",
       "    </tr>\n",
       "    <tr>\n",
       "      <th>12349.0</th>\n",
       "      <td>18</td>\n",
       "      <td>73</td>\n",
       "      <td>1757.55</td>\n",
       "      <td>3</td>\n",
       "      <td>3</td>\n",
       "      <td>4</td>\n",
       "      <td>10</td>\n",
       "    </tr>\n",
       "    <tr>\n",
       "      <th>12350.0</th>\n",
       "      <td>309</td>\n",
       "      <td>17</td>\n",
       "      <td>334.40</td>\n",
       "      <td>1</td>\n",
       "      <td>1</td>\n",
       "      <td>2</td>\n",
       "      <td>4</td>\n",
       "    </tr>\n",
       "  </tbody>\n",
       "</table>\n",
       "</div>"
      ],
      "text/plain": [
       "            Recency  Frequency  Monetary R_seg F_seg M_seg  RFM_score\n",
       "CustomerID                                                           \n",
       "12346.0         325          1  77183.60     1     1     4          6\n",
       "12347.0           1        182   4310.00     4     4     4         12\n",
       "12348.0          74         31   1797.24     2     2     4          8\n",
       "12349.0          18         73   1757.55     3     3     4         10\n",
       "12350.0         309         17    334.40     1     1     2          4"
      ]
     },
     "execution_count": 27,
     "metadata": {},
     "output_type": "execute_result"
    }
   ],
   "source": [
    "df_rfm_seg = df_rfm.copy()\n",
    "\n",
    "df_rfm_seg['R_seg'] = pd.qcut(df_rfm_seg['Recency'], q=4, labels=[4, 3, 2, 1])\n",
    "df_rfm_seg['F_seg'] = pd.qcut(df_rfm_seg['Frequency'], q=4, labels=[1, 2, 3, 4])\n",
    "df_rfm_seg['M_seg'] = pd.qcut(df_rfm_seg['Monetary'], q=4, labels=[1, 2, 3, 4])\n",
    "\n",
    "df_rfm_seg['RFM_score'] = df_rfm_seg[['R_seg','F_seg','M_seg']].sum(axis=1)\n",
    "\n",
    "df_rfm_seg.head()"
   ]
  },
  {
   "cell_type": "code",
   "execution_count": 28,
   "id": "bf8f2c49",
   "metadata": {
    "execution": {
     "iopub.execute_input": "2025-04-07T10:16:44.697599Z",
     "iopub.status.busy": "2025-04-07T10:16:44.697364Z",
     "iopub.status.idle": "2025-04-07T10:16:44.707021Z",
     "shell.execute_reply": "2025-04-07T10:16:44.706297Z"
    },
    "papermill": {
     "duration": 0.023842,
     "end_time": "2025-04-07T10:16:44.708223",
     "exception": false,
     "start_time": "2025-04-07T10:16:44.684381",
     "status": "completed"
    },
    "tags": []
   },
   "outputs": [
    {
     "data": {
      "text/html": [
       "<div>\n",
       "<style scoped>\n",
       "    .dataframe tbody tr th:only-of-type {\n",
       "        vertical-align: middle;\n",
       "    }\n",
       "\n",
       "    .dataframe tbody tr th {\n",
       "        vertical-align: top;\n",
       "    }\n",
       "\n",
       "    .dataframe thead th {\n",
       "        text-align: right;\n",
       "    }\n",
       "</style>\n",
       "<table border=\"1\" class=\"dataframe\">\n",
       "  <thead>\n",
       "    <tr style=\"text-align: right;\">\n",
       "      <th></th>\n",
       "      <th>Recency</th>\n",
       "      <th>Frequency</th>\n",
       "      <th>Monetary</th>\n",
       "      <th>R_seg</th>\n",
       "      <th>F_seg</th>\n",
       "      <th>M_seg</th>\n",
       "      <th>RFM_score</th>\n",
       "    </tr>\n",
       "    <tr>\n",
       "      <th>CustomerID</th>\n",
       "      <th></th>\n",
       "      <th></th>\n",
       "      <th></th>\n",
       "      <th></th>\n",
       "      <th></th>\n",
       "      <th></th>\n",
       "      <th></th>\n",
       "    </tr>\n",
       "  </thead>\n",
       "  <tbody>\n",
       "    <tr>\n",
       "      <th>18198.0</th>\n",
       "      <td>3</td>\n",
       "      <td>159</td>\n",
       "      <td>5425.56</td>\n",
       "      <td>4</td>\n",
       "      <td>4</td>\n",
       "      <td>4</td>\n",
       "      <td>12</td>\n",
       "    </tr>\n",
       "    <tr>\n",
       "      <th>18210.0</th>\n",
       "      <td>1</td>\n",
       "      <td>134</td>\n",
       "      <td>2621.38</td>\n",
       "      <td>4</td>\n",
       "      <td>4</td>\n",
       "      <td>4</td>\n",
       "      <td>12</td>\n",
       "    </tr>\n",
       "    <tr>\n",
       "      <th>18225.0</th>\n",
       "      <td>2</td>\n",
       "      <td>271</td>\n",
       "      <td>5509.12</td>\n",
       "      <td>4</td>\n",
       "      <td>4</td>\n",
       "      <td>4</td>\n",
       "      <td>12</td>\n",
       "    </tr>\n",
       "    <tr>\n",
       "      <th>18283.0</th>\n",
       "      <td>3</td>\n",
       "      <td>756</td>\n",
       "      <td>2094.88</td>\n",
       "      <td>4</td>\n",
       "      <td>4</td>\n",
       "      <td>4</td>\n",
       "      <td>12</td>\n",
       "    </tr>\n",
       "    <tr>\n",
       "      <th>16983.0</th>\n",
       "      <td>12</td>\n",
       "      <td>148</td>\n",
       "      <td>1931.25</td>\n",
       "      <td>4</td>\n",
       "      <td>4</td>\n",
       "      <td>4</td>\n",
       "      <td>12</td>\n",
       "    </tr>\n",
       "  </tbody>\n",
       "</table>\n",
       "</div>"
      ],
      "text/plain": [
       "            Recency  Frequency  Monetary R_seg F_seg M_seg  RFM_score\n",
       "CustomerID                                                           \n",
       "18198.0           3        159   5425.56     4     4     4         12\n",
       "18210.0           1        134   2621.38     4     4     4         12\n",
       "18225.0           2        271   5509.12     4     4     4         12\n",
       "18283.0           3        756   2094.88     4     4     4         12\n",
       "16983.0          12        148   1931.25     4     4     4         12"
      ]
     },
     "execution_count": 28,
     "metadata": {},
     "output_type": "execute_result"
    }
   ],
   "source": [
    "# Customer with highest RFM scores\n",
    "df_rfm_seg.sort_values('RFM_score', ascending=False).head()"
   ]
  },
  {
   "cell_type": "code",
   "execution_count": 29,
   "id": "f0f70bdb",
   "metadata": {
    "execution": {
     "iopub.execute_input": "2025-04-07T10:16:44.734202Z",
     "iopub.status.busy": "2025-04-07T10:16:44.734008Z",
     "iopub.status.idle": "2025-04-07T10:16:44.808322Z",
     "shell.execute_reply": "2025-04-07T10:16:44.807543Z"
    },
    "papermill": {
     "duration": 0.088756,
     "end_time": "2025-04-07T10:16:44.80976",
     "exception": false,
     "start_time": "2025-04-07T10:16:44.721004",
     "status": "completed"
    },
    "tags": []
   },
   "outputs": [
    {
     "data": {
      "text/html": [
       "<div>\n",
       "<style scoped>\n",
       "    .dataframe tbody tr th:only-of-type {\n",
       "        vertical-align: middle;\n",
       "    }\n",
       "\n",
       "    .dataframe tbody tr th {\n",
       "        vertical-align: top;\n",
       "    }\n",
       "\n",
       "    .dataframe thead th {\n",
       "        text-align: right;\n",
       "    }\n",
       "</style>\n",
       "<table border=\"1\" class=\"dataframe\">\n",
       "  <thead>\n",
       "    <tr style=\"text-align: right;\">\n",
       "      <th></th>\n",
       "      <th>CustomerID</th>\n",
       "      <th>Recency</th>\n",
       "      <th>Frequency</th>\n",
       "      <th>Monetary</th>\n",
       "      <th>R_seg</th>\n",
       "      <th>F_seg</th>\n",
       "      <th>M_seg</th>\n",
       "      <th>RFM_score</th>\n",
       "      <th>Country</th>\n",
       "    </tr>\n",
       "  </thead>\n",
       "  <tbody>\n",
       "    <tr>\n",
       "      <th>0</th>\n",
       "      <td>12346.0</td>\n",
       "      <td>325</td>\n",
       "      <td>1</td>\n",
       "      <td>77183.60</td>\n",
       "      <td>1</td>\n",
       "      <td>1</td>\n",
       "      <td>4</td>\n",
       "      <td>6</td>\n",
       "      <td>United Kingdom</td>\n",
       "    </tr>\n",
       "    <tr>\n",
       "      <th>1</th>\n",
       "      <td>12347.0</td>\n",
       "      <td>1</td>\n",
       "      <td>182</td>\n",
       "      <td>4310.00</td>\n",
       "      <td>4</td>\n",
       "      <td>4</td>\n",
       "      <td>4</td>\n",
       "      <td>12</td>\n",
       "      <td>Iceland</td>\n",
       "    </tr>\n",
       "    <tr>\n",
       "      <th>2</th>\n",
       "      <td>12348.0</td>\n",
       "      <td>74</td>\n",
       "      <td>31</td>\n",
       "      <td>1797.24</td>\n",
       "      <td>2</td>\n",
       "      <td>2</td>\n",
       "      <td>4</td>\n",
       "      <td>8</td>\n",
       "      <td>Finland</td>\n",
       "    </tr>\n",
       "    <tr>\n",
       "      <th>3</th>\n",
       "      <td>12349.0</td>\n",
       "      <td>18</td>\n",
       "      <td>73</td>\n",
       "      <td>1757.55</td>\n",
       "      <td>3</td>\n",
       "      <td>3</td>\n",
       "      <td>4</td>\n",
       "      <td>10</td>\n",
       "      <td>Italy</td>\n",
       "    </tr>\n",
       "    <tr>\n",
       "      <th>4</th>\n",
       "      <td>12350.0</td>\n",
       "      <td>309</td>\n",
       "      <td>17</td>\n",
       "      <td>334.40</td>\n",
       "      <td>1</td>\n",
       "      <td>1</td>\n",
       "      <td>2</td>\n",
       "      <td>4</td>\n",
       "      <td>Norway</td>\n",
       "    </tr>\n",
       "  </tbody>\n",
       "</table>\n",
       "</div>"
      ],
      "text/plain": [
       "   CustomerID  Recency  Frequency  Monetary R_seg F_seg M_seg  RFM_score  \\\n",
       "0     12346.0      325          1  77183.60     1     1     4          6   \n",
       "1     12347.0        1        182   4310.00     4     4     4         12   \n",
       "2     12348.0       74         31   1797.24     2     2     4          8   \n",
       "3     12349.0       18         73   1757.55     3     3     4         10   \n",
       "4     12350.0      309         17    334.40     1     1     2          4   \n",
       "\n",
       "          Country  \n",
       "0  United Kingdom  \n",
       "1         Iceland  \n",
       "2         Finland  \n",
       "3           Italy  \n",
       "4          Norway  "
      ]
     },
     "execution_count": 29,
     "metadata": {},
     "output_type": "execute_result"
    }
   ],
   "source": [
    "# Extract country information of CustomerID\n",
    "df_customer_country = df[['CustomerID','Country']].drop_duplicates()\n",
    "\n",
    "# Merge to df_rfm_seg\n",
    "df_rfm_seg_country=df_rfm_seg.merge(df_customer_country, on='CustomerID', how='left')\n",
    "\n",
    "df_rfm_seg_country.head()"
   ]
  },
  {
   "cell_type": "code",
   "execution_count": 30,
   "id": "977680c5",
   "metadata": {
    "execution": {
     "iopub.execute_input": "2025-04-07T10:16:44.837004Z",
     "iopub.status.busy": "2025-04-07T10:16:44.836783Z",
     "iopub.status.idle": "2025-04-07T10:16:44.875041Z",
     "shell.execute_reply": "2025-04-07T10:16:44.87441Z"
    },
    "papermill": {
     "duration": 0.052919,
     "end_time": "2025-04-07T10:16:44.876254",
     "exception": false,
     "start_time": "2025-04-07T10:16:44.823335",
     "status": "completed"
    },
    "tags": []
   },
   "outputs": [],
   "source": [
    "# Saving preprocessed dataset\n",
    "df_rfm.to_csv('df_rfm.csv', index=False)\n",
    "df_rfm_seg.to_csv('df_rfm_seg.csv', index=False)\n",
    "df_rfm_seg_country.to_csv('df_rfm_seg_country.csv', index=False)"
   ]
  },
  {
   "cell_type": "markdown",
   "id": "d6910c1b",
   "metadata": {
    "papermill": {
     "duration": 0.012566,
     "end_time": "2025-04-07T10:16:44.901614",
     "exception": false,
     "start_time": "2025-04-07T10:16:44.889048",
     "status": "completed"
    },
    "tags": []
   },
   "source": [
    "# Data analysis"
   ]
  },
  {
   "cell_type": "markdown",
   "id": "69f75e2c",
   "metadata": {
    "papermill": {
     "duration": 0.01354,
     "end_time": "2025-04-07T10:16:44.92779",
     "exception": false,
     "start_time": "2025-04-07T10:16:44.91425",
     "status": "completed"
    },
    "tags": []
   },
   "source": [
    "## Segmentation results"
   ]
  },
  {
   "cell_type": "code",
   "execution_count": 31,
   "id": "c08539a6",
   "metadata": {
    "execution": {
     "iopub.execute_input": "2025-04-07T10:16:44.954297Z",
     "iopub.status.busy": "2025-04-07T10:16:44.954079Z",
     "iopub.status.idle": "2025-04-07T10:16:45.081761Z",
     "shell.execute_reply": "2025-04-07T10:16:45.081022Z"
    },
    "papermill": {
     "duration": 0.142446,
     "end_time": "2025-04-07T10:16:45.083039",
     "exception": false,
     "start_time": "2025-04-07T10:16:44.940593",
     "status": "completed"
    },
    "tags": []
   },
   "outputs": [
    {
     "data": {
      "image/png": "[encoded data removed]",
      "text/plain": [
       "<Figure size 600x600 with 1 Axes>"
      ]
     },
     "metadata": {},
     "output_type": "display_data"
    }
   ],
   "source": [
    "# Create RFM segment labels (example)\n",
    "def segment_customer(row):\n",
    "    if row['RFM_score'] >= 10:\n",
    "        return 'Champions'\n",
    "    elif row['RFM_score'] >= 7:\n",
    "        return 'Loyal Customers'\n",
    "    elif row['RFM_score'] >= 4:\n",
    "        return 'Potential Loyalist'\n",
    "    else:\n",
    "        return 'At Risk'\n",
    "\n",
    "df_rfm_seg['Segment'] = df_rfm_seg.apply(segment_customer, axis=1)\n",
    "\n",
    "# Plot\n",
    "df_rfm_seg['Segment'].value_counts().plot(kind='pie', autopct='%1.1f%%', figsize=(6, 6))\n",
    "plt.title(\"Customer Segments by RFM Score\")\n",
    "plt.ylabel('')\n",
    "plt.show()\n"
   ]
  },
  {
   "cell_type": "code",
   "execution_count": 32,
   "id": "97806603",
   "metadata": {
    "execution": {
     "iopub.execute_input": "2025-04-07T10:16:45.1121Z",
     "iopub.status.busy": "2025-04-07T10:16:45.111853Z",
     "iopub.status.idle": "2025-04-07T10:16:45.124026Z",
     "shell.execute_reply": "2025-04-07T10:16:45.123237Z"
    },
    "papermill": {
     "duration": 0.027279,
     "end_time": "2025-04-07T10:16:45.125317",
     "exception": false,
     "start_time": "2025-04-07T10:16:45.098038",
     "status": "completed"
    },
    "tags": []
   },
   "outputs": [
    {
     "data": {
      "text/html": [
       "<div>\n",
       "<style scoped>\n",
       "    .dataframe tbody tr th:only-of-type {\n",
       "        vertical-align: middle;\n",
       "    }\n",
       "\n",
       "    .dataframe tbody tr th {\n",
       "        vertical-align: top;\n",
       "    }\n",
       "\n",
       "    .dataframe thead th {\n",
       "        text-align: right;\n",
       "    }\n",
       "</style>\n",
       "<table border=\"1\" class=\"dataframe\">\n",
       "  <thead>\n",
       "    <tr style=\"text-align: right;\">\n",
       "      <th></th>\n",
       "      <th>Customer ID</th>\n",
       "      <th>Country</th>\n",
       "      <th>RFM Score</th>\n",
       "      <th>Total Spend (€)</th>\n",
       "      <th>Purchase Count</th>\n",
       "      <th>Days Since Last Purchase</th>\n",
       "    </tr>\n",
       "  </thead>\n",
       "  <tbody>\n",
       "    <tr>\n",
       "      <th>111</th>\n",
       "      <td>12474.0</td>\n",
       "      <td>Germany</td>\n",
       "      <td>12</td>\n",
       "      <td>7,375.79</td>\n",
       "      <td>424</td>\n",
       "      <td>16</td>\n",
       "    </tr>\n",
       "    <tr>\n",
       "      <th>4301</th>\n",
       "      <td>18225.0</td>\n",
       "      <td>United Kingdom</td>\n",
       "      <td>12</td>\n",
       "      <td>5,509.12</td>\n",
       "      <td>271</td>\n",
       "      <td>2</td>\n",
       "    </tr>\n",
       "    <tr>\n",
       "      <th>3038</th>\n",
       "      <td>16474.0</td>\n",
       "      <td>United Kingdom</td>\n",
       "      <td>12</td>\n",
       "      <td>1,871.50</td>\n",
       "      <td>360</td>\n",
       "      <td>6</td>\n",
       "    </tr>\n",
       "    <tr>\n",
       "      <th>108</th>\n",
       "      <td>12471.0</td>\n",
       "      <td>Germany</td>\n",
       "      <td>12</td>\n",
       "      <td>19,824.05</td>\n",
       "      <td>460</td>\n",
       "      <td>1</td>\n",
       "    </tr>\n",
       "    <tr>\n",
       "      <th>2998</th>\n",
       "      <td>16422.0</td>\n",
       "      <td>United Kingdom</td>\n",
       "      <td>12</td>\n",
       "      <td>34,684.40</td>\n",
       "      <td>369</td>\n",
       "      <td>16</td>\n",
       "    </tr>\n",
       "    <tr>\n",
       "      <th>4317</th>\n",
       "      <td>18245.0</td>\n",
       "      <td>United Kingdom</td>\n",
       "      <td>12</td>\n",
       "      <td>2,567.06</td>\n",
       "      <td>175</td>\n",
       "      <td>6</td>\n",
       "    </tr>\n",
       "    <tr>\n",
       "      <th>77</th>\n",
       "      <td>12433.0</td>\n",
       "      <td>Norway</td>\n",
       "      <td>12</td>\n",
       "      <td>13,375.87</td>\n",
       "      <td>420</td>\n",
       "      <td>0</td>\n",
       "    </tr>\n",
       "    <tr>\n",
       "      <th>65</th>\n",
       "      <td>12423.0</td>\n",
       "      <td>Belgium</td>\n",
       "      <td>12</td>\n",
       "      <td>1,859.31</td>\n",
       "      <td>125</td>\n",
       "      <td>0</td>\n",
       "    </tr>\n",
       "    <tr>\n",
       "      <th>4287</th>\n",
       "      <td>18210.0</td>\n",
       "      <td>United Kingdom</td>\n",
       "      <td>12</td>\n",
       "      <td>2,621.38</td>\n",
       "      <td>134</td>\n",
       "      <td>1</td>\n",
       "    </tr>\n",
       "    <tr>\n",
       "      <th>4280</th>\n",
       "      <td>18198.0</td>\n",
       "      <td>United Kingdom</td>\n",
       "      <td>12</td>\n",
       "      <td>5,425.56</td>\n",
       "      <td>159</td>\n",
       "      <td>3</td>\n",
       "    </tr>\n",
       "  </tbody>\n",
       "</table>\n",
       "</div>"
      ],
      "text/plain": [
       "      Customer ID         Country  RFM Score Total Spend (€)  Purchase Count  \\\n",
       "111       12474.0         Germany         12        7,375.79             424   \n",
       "4301      18225.0  United Kingdom         12        5,509.12             271   \n",
       "3038      16474.0  United Kingdom         12        1,871.50             360   \n",
       "108       12471.0         Germany         12       19,824.05             460   \n",
       "2998      16422.0  United Kingdom         12       34,684.40             369   \n",
       "4317      18245.0  United Kingdom         12        2,567.06             175   \n",
       "77        12433.0          Norway         12       13,375.87             420   \n",
       "65        12423.0         Belgium         12        1,859.31             125   \n",
       "4287      18210.0  United Kingdom         12        2,621.38             134   \n",
       "4280      18198.0  United Kingdom         12        5,425.56             159   \n",
       "\n",
       "      Days Since Last Purchase  \n",
       "111                         16  \n",
       "4301                         2  \n",
       "3038                         6  \n",
       "108                          1  \n",
       "2998                        16  \n",
       "4317                         6  \n",
       "77                           0  \n",
       "65                           0  \n",
       "4287                         1  \n",
       "4280                         3  "
      ]
     },
     "execution_count": 32,
     "metadata": {},
     "output_type": "execute_result"
    }
   ],
   "source": [
    "top_customers = df_rfm_seg_country.sort_values('RFM_score', ascending=False).head(10)\n",
    "top_customers = top_customers[['CustomerID', 'Country', 'RFM_score', 'Monetary', 'Frequency', 'Recency']]\n",
    "\n",
    "top_customers.columns = ['Customer ID', 'Country', 'RFM Score', 'Total Spend (€)', 'Purchase Count', 'Days Since Last Purchase']\n",
    "\n",
    "# Format Monetary column\n",
    "top_customers['Total Spend (€)'] = top_customers['Total Spend (€)'].map('{:,.2f}'.format)\n",
    "\n",
    "top_customers.head(10)"
   ]
  },
  {
   "cell_type": "code",
   "execution_count": 33,
   "id": "e629c527",
   "metadata": {
    "execution": {
     "iopub.execute_input": "2025-04-07T10:16:45.153524Z",
     "iopub.status.busy": "2025-04-07T10:16:45.153281Z",
     "iopub.status.idle": "2025-04-07T10:16:45.361549Z",
     "shell.execute_reply": "2025-04-07T10:16:45.360749Z"
    },
    "papermill": {
     "duration": 0.223604,
     "end_time": "2025-04-07T10:16:45.362799",
     "exception": false,
     "start_time": "2025-04-07T10:16:45.139195",
     "status": "completed"
    },
    "tags": []
   },
   "outputs": [
    {
     "name": "stderr",
     "output_type": "stream",
     "text": [
      "<ipython-input-33-0e91c9b4d730>:2: FutureWarning: The default value of observed=False is deprecated and will change to observed=True in a future version of pandas. Specify observed=False to silence this warning and retain the current behavior\n",
      "  rfm_pivot = df_rfm_seg_country.pivot_table(index='R_seg', columns='F_seg', values='CustomerID', aggfunc='count')\n"
     ]
    },
    {
     "data": {
      "image/png": "[encoded data removed]",
      "text/plain": [
       "<Figure size 640x480 with 2 Axes>"
      ]
     },
     "metadata": {},
     "output_type": "display_data"
    }
   ],
   "source": [
    "# Heatmap of RFM segments\n",
    "rfm_pivot = df_rfm_seg_country.pivot_table(index='R_seg', columns='F_seg', values='CustomerID', aggfunc='count')\n",
    "sns.heatmap(rfm_pivot, annot=True, fmt=\".0f\", cmap=\"Blues\")\n",
    "plt.title(\"Heatmap of R vs F Segments\")\n",
    "plt.show()\n"
   ]
  },
  {
   "cell_type": "markdown",
   "id": "9e66df85",
   "metadata": {
    "papermill": {
     "duration": 0.014148,
     "end_time": "2025-04-07T10:16:45.391572",
     "exception": false,
     "start_time": "2025-04-07T10:16:45.377424",
     "status": "completed"
    },
    "tags": []
   },
   "source": [
    "## Insights\n",
    "\n",
    "- The largest customer group (555 customers) is in segment (R=4, F=4), indicating highly active and loyal customers who purchase both recently and frequently.\n",
    "\n",
    "- A significant number of customers (523) fall into the (R=1, F=1) segment, representing those who purchased long ago and infrequently, potentially indicating churned or inactive customers.\n",
    "\n",
    "- The middle segments (e.g., (R=3, F=3) and (R=2, F=2)) are also well-populated, suggesting a balanced mix of moderately engaged customers.\n",
    "\n",
    "- Overall, the heatmap suggests that a substantial portion of the customer base is still highly engaged, while there’s also a clear opportunity to re-engage at-risk or inactive customers."
   ]
  },
  {
   "cell_type": "code",
   "execution_count": 34,
   "id": "0c95407a",
   "metadata": {
    "execution": {
     "iopub.execute_input": "2025-04-07T10:16:45.421256Z",
     "iopub.status.busy": "2025-04-07T10:16:45.421031Z",
     "iopub.status.idle": "2025-04-07T10:16:45.683438Z",
     "shell.execute_reply": "2025-04-07T10:16:45.682545Z"
    },
    "papermill": {
     "duration": 0.279113,
     "end_time": "2025-04-07T10:16:45.684855",
     "exception": false,
     "start_time": "2025-04-07T10:16:45.405742",
     "status": "completed"
    },
    "tags": []
   },
   "outputs": [
    {
     "data": {
      "image/png": "[encoded data removed]",
      "text/plain": [
       "<Figure size 640x480 with 1 Axes>"
      ]
     },
     "metadata": {},
     "output_type": "display_data"
    }
   ],
   "source": [
    "sns.scatterplot(data=top_customers, x='Purchase Count', y='Total Spend (€)', hue='Country')\n",
    "plt.title(\"Top Customers: Purchase Count vs. Total Spend\")\n",
    "plt.show()"
   ]
  },
  {
   "cell_type": "markdown",
   "id": "f05c82f2",
   "metadata": {
    "papermill": {
     "duration": 0.01485,
     "end_time": "2025-04-07T10:16:45.715702",
     "exception": false,
     "start_time": "2025-04-07T10:16:45.700852",
     "status": "completed"
    },
    "tags": []
   },
   "source": [
    "## Customer Churn analysis"
   ]
  },
  {
   "cell_type": "code",
   "execution_count": 35,
   "id": "871dbeee",
   "metadata": {
    "execution": {
     "iopub.execute_input": "2025-04-07T10:16:45.746321Z",
     "iopub.status.busy": "2025-04-07T10:16:45.746057Z",
     "iopub.status.idle": "2025-04-07T10:16:45.755473Z",
     "shell.execute_reply": "2025-04-07T10:16:45.754653Z"
    },
    "papermill": {
     "duration": 0.026235,
     "end_time": "2025-04-07T10:16:45.756841",
     "exception": false,
     "start_time": "2025-04-07T10:16:45.730606",
     "status": "completed"
    },
    "tags": []
   },
   "outputs": [
    {
     "name": "stdout",
     "output_type": "stream",
     "text": [
      "Churn Summary:\n",
      " Churned\n",
      "False    2900\n",
      "True     1446\n",
      "Name: count, dtype: int64\n",
      "Churn Rate: 33.27%\n"
     ]
    }
   ],
   "source": [
    "churn_threshold = 90\n",
    "df_rfm_seg_country['Churned'] = df_rfm_seg_country['Recency'] > churn_threshold\n",
    "\n",
    "churn_summary = df_rfm_seg_country['Churned'].value_counts()\n",
    "print(\"Churn Summary:\\n\", churn_summary)\n",
    "\n",
    "churn_rate = df_rfm_seg_country['Churned'].mean()\n",
    "print(f\"Churn Rate: {churn_rate:.2%}\")\n"
   ]
  },
  {
   "cell_type": "code",
   "execution_count": 36,
   "id": "72eb72c5",
   "metadata": {
    "execution": {
     "iopub.execute_input": "2025-04-07T10:16:45.787548Z",
     "iopub.status.busy": "2025-04-07T10:16:45.78727Z",
     "iopub.status.idle": "2025-04-07T10:16:45.799993Z",
     "shell.execute_reply": "2025-04-07T10:16:45.79932Z"
    },
    "papermill": {
     "duration": 0.029455,
     "end_time": "2025-04-07T10:16:45.80123",
     "exception": false,
     "start_time": "2025-04-07T10:16:45.771775",
     "status": "completed"
    },
    "tags": []
   },
   "outputs": [
    {
     "data": {
      "text/html": [
       "<div>\n",
       "<style scoped>\n",
       "    .dataframe tbody tr th:only-of-type {\n",
       "        vertical-align: middle;\n",
       "    }\n",
       "\n",
       "    .dataframe tbody tr th {\n",
       "        vertical-align: top;\n",
       "    }\n",
       "\n",
       "    .dataframe thead th {\n",
       "        text-align: right;\n",
       "    }\n",
       "</style>\n",
       "<table border=\"1\" class=\"dataframe\">\n",
       "  <thead>\n",
       "    <tr style=\"text-align: right;\">\n",
       "      <th></th>\n",
       "      <th>CustomerID</th>\n",
       "      <th>Recency</th>\n",
       "      <th>Frequency</th>\n",
       "      <th>Monetary</th>\n",
       "      <th>R_seg</th>\n",
       "      <th>F_seg</th>\n",
       "      <th>M_seg</th>\n",
       "      <th>RFM_score</th>\n",
       "      <th>Country</th>\n",
       "      <th>Churned</th>\n",
       "    </tr>\n",
       "  </thead>\n",
       "  <tbody>\n",
       "    <tr>\n",
       "      <th>4072</th>\n",
       "      <td>17908.0</td>\n",
       "      <td>373</td>\n",
       "      <td>58</td>\n",
       "      <td>243.28</td>\n",
       "      <td>1</td>\n",
       "      <td>3</td>\n",
       "      <td>1</td>\n",
       "      <td>5</td>\n",
       "      <td>United Kingdom</td>\n",
       "      <td>True</td>\n",
       "    </tr>\n",
       "    <tr>\n",
       "      <th>1757</th>\n",
       "      <td>14729.0</td>\n",
       "      <td>373</td>\n",
       "      <td>71</td>\n",
       "      <td>313.49</td>\n",
       "      <td>1</td>\n",
       "      <td>3</td>\n",
       "      <td>2</td>\n",
       "      <td>6</td>\n",
       "      <td>United Kingdom</td>\n",
       "      <td>True</td>\n",
       "    </tr>\n",
       "    <tr>\n",
       "      <th>4188</th>\n",
       "      <td>18074.0</td>\n",
       "      <td>373</td>\n",
       "      <td>13</td>\n",
       "      <td>489.60</td>\n",
       "      <td>1</td>\n",
       "      <td>1</td>\n",
       "      <td>2</td>\n",
       "      <td>4</td>\n",
       "      <td>United Kingdom</td>\n",
       "      <td>True</td>\n",
       "    </tr>\n",
       "    <tr>\n",
       "      <th>1045</th>\n",
       "      <td>13747.0</td>\n",
       "      <td>373</td>\n",
       "      <td>1</td>\n",
       "      <td>79.60</td>\n",
       "      <td>1</td>\n",
       "      <td>1</td>\n",
       "      <td>1</td>\n",
       "      <td>3</td>\n",
       "      <td>United Kingdom</td>\n",
       "      <td>True</td>\n",
       "    </tr>\n",
       "    <tr>\n",
       "      <th>4116</th>\n",
       "      <td>17968.0</td>\n",
       "      <td>373</td>\n",
       "      <td>85</td>\n",
       "      <td>277.35</td>\n",
       "      <td>1</td>\n",
       "      <td>3</td>\n",
       "      <td>1</td>\n",
       "      <td>5</td>\n",
       "      <td>United Kingdom</td>\n",
       "      <td>True</td>\n",
       "    </tr>\n",
       "    <tr>\n",
       "      <th>363</th>\n",
       "      <td>12791.0</td>\n",
       "      <td>373</td>\n",
       "      <td>2</td>\n",
       "      <td>192.60</td>\n",
       "      <td>1</td>\n",
       "      <td>1</td>\n",
       "      <td>1</td>\n",
       "      <td>3</td>\n",
       "      <td>Netherlands</td>\n",
       "      <td>True</td>\n",
       "    </tr>\n",
       "    <tr>\n",
       "      <th>3111</th>\n",
       "      <td>16583.0</td>\n",
       "      <td>373</td>\n",
       "      <td>14</td>\n",
       "      <td>233.45</td>\n",
       "      <td>1</td>\n",
       "      <td>1</td>\n",
       "      <td>1</td>\n",
       "      <td>3</td>\n",
       "      <td>United Kingdom</td>\n",
       "      <td>True</td>\n",
       "    </tr>\n",
       "    <tr>\n",
       "      <th>410</th>\n",
       "      <td>12855.0</td>\n",
       "      <td>372</td>\n",
       "      <td>3</td>\n",
       "      <td>38.10</td>\n",
       "      <td>1</td>\n",
       "      <td>1</td>\n",
       "      <td>1</td>\n",
       "      <td>3</td>\n",
       "      <td>United Kingdom</td>\n",
       "      <td>True</td>\n",
       "    </tr>\n",
       "    <tr>\n",
       "      <th>1999</th>\n",
       "      <td>15070.0</td>\n",
       "      <td>372</td>\n",
       "      <td>1</td>\n",
       "      <td>106.20</td>\n",
       "      <td>1</td>\n",
       "      <td>1</td>\n",
       "      <td>1</td>\n",
       "      <td>3</td>\n",
       "      <td>United Kingdom</td>\n",
       "      <td>True</td>\n",
       "    </tr>\n",
       "    <tr>\n",
       "      <th>2637</th>\n",
       "      <td>15923.0</td>\n",
       "      <td>372</td>\n",
       "      <td>21</td>\n",
       "      <td>127.08</td>\n",
       "      <td>1</td>\n",
       "      <td>2</td>\n",
       "      <td>1</td>\n",
       "      <td>4</td>\n",
       "      <td>United Kingdom</td>\n",
       "      <td>True</td>\n",
       "    </tr>\n",
       "  </tbody>\n",
       "</table>\n",
       "</div>"
      ],
      "text/plain": [
       "      CustomerID  Recency  Frequency  Monetary R_seg F_seg M_seg  RFM_score  \\\n",
       "4072     17908.0      373         58    243.28     1     3     1          5   \n",
       "1757     14729.0      373         71    313.49     1     3     2          6   \n",
       "4188     18074.0      373         13    489.60     1     1     2          4   \n",
       "1045     13747.0      373          1     79.60     1     1     1          3   \n",
       "4116     17968.0      373         85    277.35     1     3     1          5   \n",
       "363      12791.0      373          2    192.60     1     1     1          3   \n",
       "3111     16583.0      373         14    233.45     1     1     1          3   \n",
       "410      12855.0      372          3     38.10     1     1     1          3   \n",
       "1999     15070.0      372          1    106.20     1     1     1          3   \n",
       "2637     15923.0      372         21    127.08     1     2     1          4   \n",
       "\n",
       "             Country  Churned  \n",
       "4072  United Kingdom     True  \n",
       "1757  United Kingdom     True  \n",
       "4188  United Kingdom     True  \n",
       "1045  United Kingdom     True  \n",
       "4116  United Kingdom     True  \n",
       "363      Netherlands     True  \n",
       "3111  United Kingdom     True  \n",
       "410   United Kingdom     True  \n",
       "1999  United Kingdom     True  \n",
       "2637  United Kingdom     True  "
      ]
     },
     "execution_count": 36,
     "metadata": {},
     "output_type": "execute_result"
    }
   ],
   "source": [
    "top_churned = df_rfm_seg_country[df_rfm_seg_country['Churned'] == True].sort_values('Recency', ascending=False)\n",
    "top_churned.head(10)"
   ]
  },
  {
   "cell_type": "code",
   "execution_count": 37,
   "id": "bbb18fbf",
   "metadata": {
    "execution": {
     "iopub.execute_input": "2025-04-07T10:16:45.83303Z",
     "iopub.status.busy": "2025-04-07T10:16:45.832825Z",
     "iopub.status.idle": "2025-04-07T10:16:46.075027Z",
     "shell.execute_reply": "2025-04-07T10:16:46.074183Z"
    },
    "papermill": {
     "duration": 0.25909,
     "end_time": "2025-04-07T10:16:46.076304",
     "exception": false,
     "start_time": "2025-04-07T10:16:45.817214",
     "status": "completed"
    },
    "tags": []
   },
   "outputs": [
    {
     "data": {
      "image/png": "[encoded data removed]",
      "text/plain": [
       "<Figure size 1000x600 with 1 Axes>"
      ]
     },
     "metadata": {},
     "output_type": "display_data"
    }
   ],
   "source": [
    "import matplotlib.pyplot as plt\n",
    "\n",
    "plt.figure(figsize=(10, 6))\n",
    "plt.hist(df_rfm_seg_country['Recency'], bins=50, color='salmon', alpha=0.7)\n",
    "plt.axvline(churn_threshold, color='black', linestyle='--', label=f'Churn threshold ({churn_threshold} days)')\n",
    "plt.title('Recency Distribution (Days Since Last Purchase)')\n",
    "plt.xlabel('Recency (Days)')\n",
    "plt.ylabel('Number of Customers')\n",
    "plt.legend()\n",
    "plt.show()\n"
   ]
  },
  {
   "cell_type": "markdown",
   "id": "fd068519",
   "metadata": {
    "papermill": {
     "duration": 0.015617,
     "end_time": "2025-04-07T10:16:46.108501",
     "exception": false,
     "start_time": "2025-04-07T10:16:46.092884",
     "status": "completed"
    },
    "tags": []
   },
   "source": [
    "## Customer characteristics and actionable recommendations"
   ]
  },
  {
   "cell_type": "markdown",
   "id": "d5303117",
   "metadata": {
    "papermill": {
     "duration": 0.015818,
     "end_time": "2025-04-07T10:16:46.140079",
     "exception": false,
     "start_time": "2025-04-07T10:16:46.124261",
     "status": "completed"
    },
    "tags": []
   },
   "source": [
    "### Champions\n",
    "\n",
    "Total RFM vlue >= 10\n",
    "\n",
    "Characteristics: They are Recent buyers, purchase frequently, and spend the most\n",
    "\n",
    "Suggested actions: Reward with exclusive perks, early product access, and VIP offers to increase retention.\n",
    "\n",
    "### Loyal customers\n",
    "\n",
    "Total RFM vlue >= 7\n",
    "\n",
    "Characteristics: They are regular purchasers with strong spending history\n",
    "\n",
    "Suggested actions: Promote cross-sell and upsell, offer loyalty points or tiered benefits.\n",
    "\n",
    "### Potential loyalists\n",
    "\n",
    "Total RFM vlue >= 4\n",
    "\n",
    "Characteristics: They are recent buyers with moderate frequency and monetary value\n",
    "\n",
    "Suggested actions: Nurture with personalized offers and encouragement to engage more frequently.\n",
    "\n",
    "### At risk\n",
    "\n",
    "Total RFM vlue < 4\n",
    "\n",
    "Characteristics: They haven’t purchased in a while but used to spend well\n",
    "\n",
    "Suggested actions: Re-engage with win-back campaigns, discounts, or surveys to understand churn."
   ]
  }
 ],
 "metadata": {
  "kaggle": {
   "accelerator": "none",
   "dataSources": [
    {
     "datasetId": 1835880,
     "sourceId": 2996440,
     "sourceType": "datasetVersion"
    }
   ],
   "dockerImageVersionId": 30886,
   "isGpuEnabled": false,
   "isInternetEnabled": true,
   "language": "python",
   "sourceType": "notebook"
  },
  "kernelspec": {
   "display_name": "Python 3",
   "language": "python",
   "name": "python3"
  },
  "language_info": {
   "codemirror_mode": {
    "name": "ipython",
    "version": 3
   },
   "file_extension": ".py",
   "mimetype": "text/x-python",
   "name": "python",
   "nbconvert_exporter": "python",
   "pygments_lexer": "ipython3",
   "version": "3.10.12"
  },
  "papermill": {
   "default_parameters": {},
   "duration": 63.790066,
   "end_time": "2025-04-07T10:16:46.773084",
   "environment_variables": {},
   "exception": null,
   "input_path": "__notebook__.ipynb",
   "output_path": "__notebook__.ipynb",
   "parameters": {},
   "start_time": "2025-04-07T10:15:42.983018",
   "version": "2.6.0"
  }
 },
 "nbformat": 4,
 "nbformat_minor": 5
}
