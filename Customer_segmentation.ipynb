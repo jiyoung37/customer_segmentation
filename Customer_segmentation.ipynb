{
  "nbformat": 4,
  "nbformat_minor": 0,
  "metadata": {
    "colab": {
      "provenance": [],
      "toc_visible": true,
      "authorship_tag": "ABX9TyPeXx/+A/pRxQS5jz8vXX8R",
      "include_colab_link": true
    },
    "kernelspec": {
      "name": "python3",
      "display_name": "Python 3"
    },
    "language_info": {
      "name": "python"
    }
  },
  "cells": [
    {
      "cell_type": "markdown",
      "metadata": {
        "id": "view-in-github",
        "colab_type": "text"
      },
      "source": [
        "<a href=\"https://colab.research.google.com/github/jiyoung37/customer_segmentation/blob/main/Customer_segmentation.ipynb\" target=\"_parent\"><img src=\"https://colab.research.google.com/assets/colab-badge.svg\" alt=\"Open In Colab\"/></a>"
      ]
    },
    {
      "cell_type": "markdown",
      "source": [
        "# Importing necessary libraries"
      ],
      "metadata": {
        "id": "UMP1xk9DoEaY"
      }
    },
    {
      "cell_type": "code",
      "execution_count": null,
      "metadata": {
        "id": "1Gkl-WpZnxv0"
      },
      "outputs": [],
      "source": [
        "import numpy as np                                # For numerical operations and handling arrays\n",
        "import pandas as pd                               # For data manipulation and analysis\n",
        "import seaborn as sns                             # For statistical data visualization (e.g., heatmaps)\n",
        "import matplotlib.pyplot as plt                   # For visualizing data\n",
        "from sklearn.preprocessing import MinMaxScaler    # For scaling the data (Min-Max)\n",
        "from sklearn.preprocessing import StandardScaler  # For scaling the data (Standardization)\n",
        "from sklearn.cluster import KMeans                # For K-Means clustering\n",
        "from sklearn.cluster import DBSCAN                # For DBSCAN clustering\n",
        "from sklearn.metrics import silhouette_score      # For evaluating clustering performance\n",
        "from sklearn.manifold import TSNE                 # For dimensionality reduction (t-SNE)\n",
        "from sklearn.decomposition import PCA\n",
        "import os                                         # For Traversing through directories to find and access files (useful for Kaggle Kernels)\n",
        "import warnings\n",
        "\n",
        "\n",
        "# Ignore all warnings\n",
        "warnings.filterwarnings('ignore')"
      ]
    },
    {
      "cell_type": "markdown",
      "source": [
        "# Data preparation"
      ],
      "metadata": {
        "id": "AY0hhPEvoV2g"
      }
    },
    {
      "cell_type": "markdown",
      "source": [
        "Finding file path"
      ],
      "metadata": {
        "id": "nQ6P5h9Loft4"
      }
    },
    {
      "cell_type": "code",
      "source": [
        "# Load dataset from Github\n",
        "url = \"\"\n",
        "df=pd.read_csv(url)"
      ],
      "metadata": {
        "id": "3Cu0sdX6okrL"
      },
      "execution_count": null,
      "outputs": []
    }
  ]
}